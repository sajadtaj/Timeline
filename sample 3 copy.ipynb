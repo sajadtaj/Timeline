{
 "cells": [
  {
   "cell_type": "code",
   "execution_count": 1,
   "metadata": {},
   "outputs": [],
   "source": [
    "import numpy as np\n",
    "import pandas as pd\n",
    "import matplotlib.pyplot as plt\n",
    "import numpy as np\n",
    "import matplotlib.dates as mdates\n",
    "from datetime import datetime\n",
    "from plotly.subplots import make_subplots\n",
    "import plotly.graph_objects as go\n",
    "import os \n",
    "os.chdir(rf'E:\\Prefessional  Python\\Clone From Git\\Timeline')"
   ]
  },
  {
   "cell_type": "code",
   "execution_count": 2,
   "metadata": {},
   "outputs": [
    {
     "data": {
      "text/html": [
       "<div>\n",
       "<style scoped>\n",
       "    .dataframe tbody tr th:only-of-type {\n",
       "        vertical-align: middle;\n",
       "    }\n",
       "\n",
       "    .dataframe tbody tr th {\n",
       "        vertical-align: top;\n",
       "    }\n",
       "\n",
       "    .dataframe thead th {\n",
       "        text-align: right;\n",
       "    }\n",
       "</style>\n",
       "<table border=\"1\" class=\"dataframe\">\n",
       "  <thead>\n",
       "    <tr style=\"text-align: right;\">\n",
       "      <th></th>\n",
       "      <th>Date</th>\n",
       "      <th>Open</th>\n",
       "      <th>High</th>\n",
       "      <th>Low</th>\n",
       "      <th>Close</th>\n",
       "      <th>Volume</th>\n",
       "      <th>Currency</th>\n",
       "      <th>Time</th>\n",
       "      <th>country</th>\n",
       "      <th>Volatility</th>\n",
       "      <th>Description</th>\n",
       "      <th>Evaluation of the event</th>\n",
       "      <th>--</th>\n",
       "      <th>Actual event</th>\n",
       "      <th>Evaluation data</th>\n",
       "      <th>Event forecast</th>\n",
       "    </tr>\n",
       "  </thead>\n",
       "  <tbody>\n",
       "    <tr>\n",
       "      <th>4778</th>\n",
       "      <td>2019-01-02</td>\n",
       "      <td>1285.0</td>\n",
       "      <td>1291.0</td>\n",
       "      <td>1280.6</td>\n",
       "      <td>1284.1</td>\n",
       "      <td>235334</td>\n",
       "      <td>USD</td>\n",
       "      <td>NaN</td>\n",
       "      <td>NaN</td>\n",
       "      <td>NaN</td>\n",
       "      <td>NaN</td>\n",
       "      <td>NaN</td>\n",
       "      <td>NaN</td>\n",
       "      <td>NaN</td>\n",
       "      <td>NaN</td>\n",
       "      <td>NaN</td>\n",
       "    </tr>\n",
       "    <tr>\n",
       "      <th>4779</th>\n",
       "      <td>2019-01-03</td>\n",
       "      <td>1290.4</td>\n",
       "      <td>1296.9</td>\n",
       "      <td>1286.4</td>\n",
       "      <td>1294.8</td>\n",
       "      <td>244542</td>\n",
       "      <td>USD</td>\n",
       "      <td>8:15:00</td>\n",
       "      <td>United States</td>\n",
       "      <td>High Volatility Expected</td>\n",
       "      <td>ADP Nonfarm Employment Change</td>\n",
       "      <td>Better Than Expected</td>\n",
       "      <td>K</td>\n",
       "      <td>271.0</td>\n",
       "      <td>179.0</td>\n",
       "      <td>evised From 179K&gt;157                          ...</td>\n",
       "    </tr>\n",
       "  </tbody>\n",
       "</table>\n",
       "</div>"
      ],
      "text/plain": [
       "            Date    Open    High     Low   Close  Volume Currency     Time  \\\n",
       "4778  2019-01-02  1285.0  1291.0  1280.6  1284.1  235334      USD      NaN   \n",
       "4779  2019-01-03  1290.4  1296.9  1286.4  1294.8  244542      USD  8:15:00   \n",
       "\n",
       "                               country                        Volatility  \\\n",
       "4778                               NaN                               NaN   \n",
       "4779  United States                     High Volatility Expected           \n",
       "\n",
       "                         Description           Evaluation of the event   --  \\\n",
       "4778                             NaN                               NaN  NaN   \n",
       "4779  ADP Nonfarm Employment Change   Better Than Expected              K     \n",
       "\n",
       "      Actual event  Evaluation data  \\\n",
       "4778           NaN              NaN   \n",
       "4779         271.0            179.0   \n",
       "\n",
       "                                         Event forecast  \n",
       "4778                                                NaN  \n",
       "4779  evised From 179K>157                          ...  "
      ]
     },
     "execution_count": 2,
     "metadata": {},
     "output_type": "execute_result"
    }
   ],
   "source": [
    "gold = pd.read_pickle(rf'Data\\CleanData.csv') \n",
    "gold.head(2)"
   ]
  },
  {
   "cell_type": "code",
   "execution_count": 3,
   "metadata": {},
   "outputs": [
    {
     "data": {
      "text/plain": [
       "4778    2019-01-02\n",
       "4779    2019-01-03\n",
       "4780    2019-01-04\n",
       "4781    2019-01-07\n",
       "4782    2019-01-08\n",
       "           ...    \n",
       "5353    2021-04-16\n",
       "5354    2021-04-19\n",
       "5355    2021-04-20\n",
       "5356    2021-04-21\n",
       "5357    2021-04-22\n",
       "Name: Date, Length: 580, dtype: object"
      ]
     },
     "execution_count": 3,
     "metadata": {},
     "output_type": "execute_result"
    }
   ],
   "source": [
    "gold['Date']\n",
    "# def convrtDate(x):\n",
    "#     return  datetime.strptime(x, r'%Y-%m-%d')\n",
    "\n",
    "# gold['Date'].apply(convrtDate)"
   ]
  },
  {
   "cell_type": "code",
   "execution_count": 4,
   "metadata": {},
   "outputs": [
    {
     "data": {
      "text/html": [
       "<div>\n",
       "<style scoped>\n",
       "    .dataframe tbody tr th:only-of-type {\n",
       "        vertical-align: middle;\n",
       "    }\n",
       "\n",
       "    .dataframe tbody tr th {\n",
       "        vertical-align: top;\n",
       "    }\n",
       "\n",
       "    .dataframe thead th {\n",
       "        text-align: right;\n",
       "    }\n",
       "</style>\n",
       "<table border=\"1\" class=\"dataframe\">\n",
       "  <thead>\n",
       "    <tr style=\"text-align: right;\">\n",
       "      <th></th>\n",
       "      <th>index</th>\n",
       "      <th>Date</th>\n",
       "      <th>Open</th>\n",
       "      <th>High</th>\n",
       "      <th>Low</th>\n",
       "      <th>Close</th>\n",
       "      <th>Volume</th>\n",
       "      <th>Currency</th>\n",
       "      <th>Time</th>\n",
       "      <th>country</th>\n",
       "      <th>Volatility</th>\n",
       "      <th>Description</th>\n",
       "      <th>Evaluation of the event</th>\n",
       "      <th>--</th>\n",
       "      <th>Actual event</th>\n",
       "      <th>Evaluation data</th>\n",
       "      <th>Event forecast</th>\n",
       "    </tr>\n",
       "  </thead>\n",
       "  <tbody>\n",
       "    <tr>\n",
       "      <th>0</th>\n",
       "      <td>4779</td>\n",
       "      <td>2019-01-03</td>\n",
       "      <td>1290.4</td>\n",
       "      <td>1296.9</td>\n",
       "      <td>1286.4</td>\n",
       "      <td>1294.8</td>\n",
       "      <td>244542</td>\n",
       "      <td>USD</td>\n",
       "      <td>8:15:00</td>\n",
       "      <td>United States</td>\n",
       "      <td>High Volatility Expected</td>\n",
       "      <td>ADP Nonfarm Employment Change</td>\n",
       "      <td>Better Than Expected</td>\n",
       "      <td>K</td>\n",
       "      <td>271.0</td>\n",
       "      <td>179.0</td>\n",
       "      <td>evised From 179K&gt;157                          ...</td>\n",
       "    </tr>\n",
       "  </tbody>\n",
       "</table>\n",
       "</div>"
      ],
      "text/plain": [
       "   index        Date    Open    High     Low   Close  Volume Currency  \\\n",
       "0   4779  2019-01-03  1290.4  1296.9  1286.4  1294.8  244542      USD   \n",
       "\n",
       "      Time                           country  \\\n",
       "0  8:15:00  United States                      \n",
       "\n",
       "                         Volatility                     Description  \\\n",
       "0  High Volatility Expected          ADP Nonfarm Employment Change    \n",
       "\n",
       "            Evaluation of the event   --  Actual event  Evaluation data  \\\n",
       "0  Better Than Expected              K           271.0            179.0   \n",
       "\n",
       "                                      Event forecast  \n",
       "0  evised From 179K>157                          ...  "
      ]
     },
     "execution_count": 4,
     "metadata": {},
     "output_type": "execute_result"
    }
   ],
   "source": [
    "start = gold[gold['Date'] > '2019-01-02']\n",
    "end = start[start['Date'] < '2019-06-02']\n",
    "end.reset_index(inplace=True)\n",
    "end.head(1)"
   ]
  },
  {
   "cell_type": "code",
   "execution_count": 11,
   "metadata": {},
   "outputs": [
    {
     "data": {
      "text/plain": [
       "0      2019-01-03\n",
       "1      2019-01-04\n",
       "2      2019-01-07\n",
       "3      2019-01-08\n",
       "4      2019-01-09\n",
       "          ...    \n",
       "97     2019-05-24\n",
       "98     2019-05-27\n",
       "99     2019-05-29\n",
       "100    2019-05-30\n",
       "101    2019-05-31\n",
       "Name: Date, Length: 102, dtype: object"
      ]
     },
     "execution_count": 11,
     "metadata": {},
     "output_type": "execute_result"
    }
   ],
   "source": [
    "# end[(end[\"Date\"].dt.strftime(r\"%Y-%m-%d\")>\"2019-03-12\") ] \n",
    "\n",
    "# df_filtered = df[df[\"date\"].dt.strftime(\"%Y-%m-%d\") == \"2014-01-01\"]\n",
    "\n",
    "# DateFilter = end[\"Date\"].loc[\"2019-01-03\":\"2020-02-01\"]\n",
    "# DateFilter\n",
    "# end[\"Date\"].loc[\"2019-01-03\":\"2020-02-01\"]\n",
    "# end[end['Date'] < \"2020-12-02\"]\n",
    "end['Date']"
   ]
  },
  {
   "cell_type": "code",
   "execution_count": 6,
   "metadata": {},
   "outputs": [],
   "source": [
    "justnews=end.dropna()"
   ]
  },
  {
   "cell_type": "code",
   "execution_count": 7,
   "metadata": {},
   "outputs": [
    {
     "data": {
      "text/plain": [
       "array(['ADP Nonfarm Employment Change ', 'Nonfarm Payrolls',\n",
       "       'Crude Oil Inventories ', 'New Home Sales', 'JOLTs Job Openings',\n",
       "       'Building Permits', 'Pending Home Sales', 'Initial Jobless Claims',\n",
       "       'Core Retail Sales ', 'Existing Home Sales ',\n",
       "       'Core Durable Goods Orders ', 'GDP '], dtype=object)"
      ]
     },
     "execution_count": 7,
     "metadata": {},
     "output_type": "execute_result"
    }
   ],
   "source": [
    "justnews['Description'].unique()"
   ]
  },
  {
   "cell_type": "code",
   "execution_count": 8,
   "metadata": {},
   "outputs": [],
   "source": [
    "justnews = justnews[justnews['Description']=='Building Permits']"
   ]
  },
  {
   "cell_type": "code",
   "execution_count": 9,
   "metadata": {},
   "outputs": [
    {
     "data": {
      "application/vnd.plotly.v1+json": {
       "config": {
        "plotlyServerURL": "https://plot.ly"
       },
       "data": [
        {
         "mode": "lines",
         "name": "Price",
         "type": "scatter",
         "x": [
          "2019-01-03",
          "2019-01-04",
          "2019-01-07",
          "2019-01-08",
          "2019-01-09",
          "2019-01-10",
          "2019-01-11",
          "2019-01-14",
          "2019-01-15",
          "2019-01-16",
          "2019-01-17",
          "2019-01-18",
          "2019-01-21",
          "2019-01-23",
          "2019-01-24",
          "2019-01-25",
          "2019-01-28",
          "2019-01-29",
          "2019-01-30",
          "2019-01-31",
          "2019-02-01",
          "2019-02-04",
          "2019-02-05",
          "2019-02-06",
          "2019-02-07",
          "2019-02-08",
          "2019-02-12",
          "2019-02-13",
          "2019-02-14",
          "2019-02-15",
          "2019-02-18",
          "2019-02-20",
          "2019-02-21",
          "2019-02-22",
          "2019-02-25",
          "2019-02-26",
          "2019-02-27",
          "2019-02-28",
          "2019-03-01",
          "2019-03-04",
          "2019-03-05",
          "2019-03-06",
          "2019-03-07",
          "2019-03-08",
          "2019-03-11",
          "2019-03-12",
          "2019-03-13",
          "2019-03-14",
          "2019-03-15",
          "2019-03-18",
          "2019-03-19",
          "2019-03-20",
          "2019-03-21",
          "2019-03-22",
          "2019-03-25",
          "2019-03-26",
          "2019-03-27",
          "2019-03-28",
          "2019-03-29",
          "2019-04-01",
          "2019-04-02",
          "2019-04-03",
          "2019-04-04",
          "2019-04-05",
          "2019-04-08",
          "2019-04-09",
          "2019-04-10",
          "2019-04-11",
          "2019-04-12",
          "2019-04-15",
          "2019-04-16",
          "2019-04-17",
          "2019-04-18",
          "2019-04-22",
          "2019-04-23",
          "2019-04-24",
          "2019-04-25",
          "2019-04-26",
          "2019-04-29",
          "2019-04-30",
          "2019-05-01",
          "2019-05-02",
          "2019-05-03",
          "2019-05-06",
          "2019-05-07",
          "2019-05-08",
          "2019-05-09",
          "2019-05-10",
          "2019-05-13",
          "2019-05-14",
          "2019-05-15",
          "2019-05-16",
          "2019-05-17",
          "2019-05-20",
          "2019-05-21",
          "2019-05-22",
          "2019-05-23",
          "2019-05-24",
          "2019-05-27",
          "2019-05-29",
          "2019-05-30",
          "2019-05-31"
         ],
         "y": [
          1294.8,
          1285.8,
          1289.9,
          1285.9,
          1292,
          1287.4,
          1289.5,
          1291.3,
          1288.4,
          1293.8,
          1292.3,
          1282.6,
          1283.4,
          1284,
          1279.8,
          1298.1,
          1303.1,
          1308.9,
          1315.5,
          1325.2,
          1322.1,
          1319.3,
          1319.2,
          1314.4,
          1314.2,
          1318.5,
          1314,
          1315.1,
          1313.9,
          1322.1,
          1344.8,
          1347.9,
          1327.8,
          1332.8,
          1329.5,
          1328.5,
          1321.2,
          1316.1,
          1299.2,
          1287.5,
          1284.7,
          1287.6,
          1286.1,
          1299.3,
          1291.1,
          1298.1,
          1309.3,
          1295.1,
          1302.9,
          1301.5,
          1306.5,
          1301.7,
          1307.3,
          1312.3,
          1322.6,
          1315,
          1310.4,
          1295.3,
          1298.5,
          1294.2,
          1295.4,
          1295.3,
          1294.3,
          1295.6,
          1301.9,
          1308.3,
          1313.9,
          1293.3,
          1295.2,
          1291.3,
          1277.2,
          1276.8,
          1276,
          1277.6,
          1273.2,
          1279.4,
          1279.7,
          1288.8,
          1281.5,
          1285.7,
          1284.2,
          1272,
          1281.3,
          1283.8,
          1285.6,
          1281.4,
          1285.2,
          1287.4,
          1301.8,
          1296.3,
          1297.8,
          1286.2,
          1275.7,
          1277.3,
          1273.2,
          1274.2,
          1285.4,
          1283.6,
          1277.1,
          1281,
          1292.4,
          1311.1
         ]
        },
        {
         "line": {
          "color": "firebrick",
          "dash": "dash",
          "width": 4
         },
         "mode": "markers",
         "name": "Event",
         "type": "scatter",
         "x": [
          "2019-02-26",
          "2019-03-08",
          "2019-05-16"
         ],
         "y": [
          1328.5,
          1299.3,
          1286.2
         ]
        }
       ],
       "layout": {
        "annotations": [
         {
          "arrowcolor": "#999999",
          "arrowhead": 1,
          "arrowside": "start",
          "arrowsize": 0.3,
          "arrowwidth": 1.4,
          "ax": 0,
          "ay": -18.978571428571428,
          "bordercolor": "#A0C49D",
          "borderpad": 5,
          "borderwidth": 0,
          "captureevents": true,
          "clicktoshow": "onoff",
          "font": {
           "color": "#19376D",
           "family": "Balto",
           "size": 8
          },
          "hoverlabel": {
           "bgcolor": "#DDE6ED",
           "bordercolor": "#19376D"
          },
          "hovertext": "Building Permits \n 1328.5",
          "opacity": 0.7,
          "showarrow": true,
          "text": "Building Permits",
          "x": "2019-02-26",
          "xanchor": "auto",
          "xref": "x",
          "y": 1328.5,
          "yanchor": "bottom",
          "yref": "y"
         },
         {
          "arrowcolor": "#999999",
          "arrowhead": 1,
          "arrowside": "start",
          "arrowsize": 0.3,
          "arrowwidth": 1.4,
          "ax": 0,
          "ay": -18.56142857142857,
          "bordercolor": "#A0C49D",
          "borderpad": 5,
          "borderwidth": 0,
          "captureevents": true,
          "clicktoshow": "onoff",
          "font": {
           "color": "#19376D",
           "family": "Balto",
           "size": 8
          },
          "hoverlabel": {
           "bgcolor": "#DDE6ED",
           "bordercolor": "#19376D"
          },
          "hovertext": "Building Permits \n 1299.3",
          "opacity": 0.7,
          "showarrow": true,
          "text": "Building Permits",
          "x": "2019-03-08",
          "xanchor": "auto",
          "xref": "x",
          "y": 1299.3,
          "yanchor": "bottom",
          "yref": "y"
         },
         {
          "arrowcolor": "#999999",
          "arrowhead": 1,
          "arrowside": "start",
          "arrowsize": 0.3,
          "arrowwidth": 1.4,
          "ax": 0,
          "ay": -18.374285714285715,
          "bordercolor": "#A0C49D",
          "borderpad": 5,
          "borderwidth": 0,
          "captureevents": true,
          "clicktoshow": "onoff",
          "font": {
           "color": "#19376D",
           "family": "Balto",
           "size": 8
          },
          "hoverlabel": {
           "bgcolor": "#DDE6ED",
           "bordercolor": "#19376D"
          },
          "hovertext": "Building Permits \n 1286.2",
          "opacity": 0.7,
          "showarrow": true,
          "text": "Building Permits",
          "x": "2019-05-16",
          "xanchor": "auto",
          "xref": "x",
          "y": 1286.2,
          "yanchor": "bottom",
          "yref": "y"
         }
        ],
        "template": {
         "data": {
          "bar": [
           {
            "error_x": {
             "color": "#2a3f5f"
            },
            "error_y": {
             "color": "#2a3f5f"
            },
            "marker": {
             "line": {
              "color": "#E5ECF6",
              "width": 0.5
             },
             "pattern": {
              "fillmode": "overlay",
              "size": 10,
              "solidity": 0.2
             }
            },
            "type": "bar"
           }
          ],
          "barpolar": [
           {
            "marker": {
             "line": {
              "color": "#E5ECF6",
              "width": 0.5
             },
             "pattern": {
              "fillmode": "overlay",
              "size": 10,
              "solidity": 0.2
             }
            },
            "type": "barpolar"
           }
          ],
          "carpet": [
           {
            "aaxis": {
             "endlinecolor": "#2a3f5f",
             "gridcolor": "white",
             "linecolor": "white",
             "minorgridcolor": "white",
             "startlinecolor": "#2a3f5f"
            },
            "baxis": {
             "endlinecolor": "#2a3f5f",
             "gridcolor": "white",
             "linecolor": "white",
             "minorgridcolor": "white",
             "startlinecolor": "#2a3f5f"
            },
            "type": "carpet"
           }
          ],
          "choropleth": [
           {
            "colorbar": {
             "outlinewidth": 0,
             "ticks": ""
            },
            "type": "choropleth"
           }
          ],
          "contour": [
           {
            "colorbar": {
             "outlinewidth": 0,
             "ticks": ""
            },
            "colorscale": [
             [
              0,
              "#0d0887"
             ],
             [
              0.1111111111111111,
              "#46039f"
             ],
             [
              0.2222222222222222,
              "#7201a8"
             ],
             [
              0.3333333333333333,
              "#9c179e"
             ],
             [
              0.4444444444444444,
              "#bd3786"
             ],
             [
              0.5555555555555556,
              "#d8576b"
             ],
             [
              0.6666666666666666,
              "#ed7953"
             ],
             [
              0.7777777777777778,
              "#fb9f3a"
             ],
             [
              0.8888888888888888,
              "#fdca26"
             ],
             [
              1,
              "#f0f921"
             ]
            ],
            "type": "contour"
           }
          ],
          "contourcarpet": [
           {
            "colorbar": {
             "outlinewidth": 0,
             "ticks": ""
            },
            "type": "contourcarpet"
           }
          ],
          "heatmap": [
           {
            "colorbar": {
             "outlinewidth": 0,
             "ticks": ""
            },
            "colorscale": [
             [
              0,
              "#0d0887"
             ],
             [
              0.1111111111111111,
              "#46039f"
             ],
             [
              0.2222222222222222,
              "#7201a8"
             ],
             [
              0.3333333333333333,
              "#9c179e"
             ],
             [
              0.4444444444444444,
              "#bd3786"
             ],
             [
              0.5555555555555556,
              "#d8576b"
             ],
             [
              0.6666666666666666,
              "#ed7953"
             ],
             [
              0.7777777777777778,
              "#fb9f3a"
             ],
             [
              0.8888888888888888,
              "#fdca26"
             ],
             [
              1,
              "#f0f921"
             ]
            ],
            "type": "heatmap"
           }
          ],
          "heatmapgl": [
           {
            "colorbar": {
             "outlinewidth": 0,
             "ticks": ""
            },
            "colorscale": [
             [
              0,
              "#0d0887"
             ],
             [
              0.1111111111111111,
              "#46039f"
             ],
             [
              0.2222222222222222,
              "#7201a8"
             ],
             [
              0.3333333333333333,
              "#9c179e"
             ],
             [
              0.4444444444444444,
              "#bd3786"
             ],
             [
              0.5555555555555556,
              "#d8576b"
             ],
             [
              0.6666666666666666,
              "#ed7953"
             ],
             [
              0.7777777777777778,
              "#fb9f3a"
             ],
             [
              0.8888888888888888,
              "#fdca26"
             ],
             [
              1,
              "#f0f921"
             ]
            ],
            "type": "heatmapgl"
           }
          ],
          "histogram": [
           {
            "marker": {
             "pattern": {
              "fillmode": "overlay",
              "size": 10,
              "solidity": 0.2
             }
            },
            "type": "histogram"
           }
          ],
          "histogram2d": [
           {
            "colorbar": {
             "outlinewidth": 0,
             "ticks": ""
            },
            "colorscale": [
             [
              0,
              "#0d0887"
             ],
             [
              0.1111111111111111,
              "#46039f"
             ],
             [
              0.2222222222222222,
              "#7201a8"
             ],
             [
              0.3333333333333333,
              "#9c179e"
             ],
             [
              0.4444444444444444,
              "#bd3786"
             ],
             [
              0.5555555555555556,
              "#d8576b"
             ],
             [
              0.6666666666666666,
              "#ed7953"
             ],
             [
              0.7777777777777778,
              "#fb9f3a"
             ],
             [
              0.8888888888888888,
              "#fdca26"
             ],
             [
              1,
              "#f0f921"
             ]
            ],
            "type": "histogram2d"
           }
          ],
          "histogram2dcontour": [
           {
            "colorbar": {
             "outlinewidth": 0,
             "ticks": ""
            },
            "colorscale": [
             [
              0,
              "#0d0887"
             ],
             [
              0.1111111111111111,
              "#46039f"
             ],
             [
              0.2222222222222222,
              "#7201a8"
             ],
             [
              0.3333333333333333,
              "#9c179e"
             ],
             [
              0.4444444444444444,
              "#bd3786"
             ],
             [
              0.5555555555555556,
              "#d8576b"
             ],
             [
              0.6666666666666666,
              "#ed7953"
             ],
             [
              0.7777777777777778,
              "#fb9f3a"
             ],
             [
              0.8888888888888888,
              "#fdca26"
             ],
             [
              1,
              "#f0f921"
             ]
            ],
            "type": "histogram2dcontour"
           }
          ],
          "mesh3d": [
           {
            "colorbar": {
             "outlinewidth": 0,
             "ticks": ""
            },
            "type": "mesh3d"
           }
          ],
          "parcoords": [
           {
            "line": {
             "colorbar": {
              "outlinewidth": 0,
              "ticks": ""
             }
            },
            "type": "parcoords"
           }
          ],
          "pie": [
           {
            "automargin": true,
            "type": "pie"
           }
          ],
          "scatter": [
           {
            "fillpattern": {
             "fillmode": "overlay",
             "size": 10,
             "solidity": 0.2
            },
            "type": "scatter"
           }
          ],
          "scatter3d": [
           {
            "line": {
             "colorbar": {
              "outlinewidth": 0,
              "ticks": ""
             }
            },
            "marker": {
             "colorbar": {
              "outlinewidth": 0,
              "ticks": ""
             }
            },
            "type": "scatter3d"
           }
          ],
          "scattercarpet": [
           {
            "marker": {
             "colorbar": {
              "outlinewidth": 0,
              "ticks": ""
             }
            },
            "type": "scattercarpet"
           }
          ],
          "scattergeo": [
           {
            "marker": {
             "colorbar": {
              "outlinewidth": 0,
              "ticks": ""
             }
            },
            "type": "scattergeo"
           }
          ],
          "scattergl": [
           {
            "marker": {
             "colorbar": {
              "outlinewidth": 0,
              "ticks": ""
             }
            },
            "type": "scattergl"
           }
          ],
          "scattermapbox": [
           {
            "marker": {
             "colorbar": {
              "outlinewidth": 0,
              "ticks": ""
             }
            },
            "type": "scattermapbox"
           }
          ],
          "scatterpolar": [
           {
            "marker": {
             "colorbar": {
              "outlinewidth": 0,
              "ticks": ""
             }
            },
            "type": "scatterpolar"
           }
          ],
          "scatterpolargl": [
           {
            "marker": {
             "colorbar": {
              "outlinewidth": 0,
              "ticks": ""
             }
            },
            "type": "scatterpolargl"
           }
          ],
          "scatterternary": [
           {
            "marker": {
             "colorbar": {
              "outlinewidth": 0,
              "ticks": ""
             }
            },
            "type": "scatterternary"
           }
          ],
          "surface": [
           {
            "colorbar": {
             "outlinewidth": 0,
             "ticks": ""
            },
            "colorscale": [
             [
              0,
              "#0d0887"
             ],
             [
              0.1111111111111111,
              "#46039f"
             ],
             [
              0.2222222222222222,
              "#7201a8"
             ],
             [
              0.3333333333333333,
              "#9c179e"
             ],
             [
              0.4444444444444444,
              "#bd3786"
             ],
             [
              0.5555555555555556,
              "#d8576b"
             ],
             [
              0.6666666666666666,
              "#ed7953"
             ],
             [
              0.7777777777777778,
              "#fb9f3a"
             ],
             [
              0.8888888888888888,
              "#fdca26"
             ],
             [
              1,
              "#f0f921"
             ]
            ],
            "type": "surface"
           }
          ],
          "table": [
           {
            "cells": {
             "fill": {
              "color": "#EBF0F8"
             },
             "line": {
              "color": "white"
             }
            },
            "header": {
             "fill": {
              "color": "#C8D4E3"
             },
             "line": {
              "color": "white"
             }
            },
            "type": "table"
           }
          ]
         },
         "layout": {
          "annotationdefaults": {
           "arrowcolor": "#2a3f5f",
           "arrowhead": 0,
           "arrowwidth": 1
          },
          "autotypenumbers": "strict",
          "coloraxis": {
           "colorbar": {
            "outlinewidth": 0,
            "ticks": ""
           }
          },
          "colorscale": {
           "diverging": [
            [
             0,
             "#8e0152"
            ],
            [
             0.1,
             "#c51b7d"
            ],
            [
             0.2,
             "#de77ae"
            ],
            [
             0.3,
             "#f1b6da"
            ],
            [
             0.4,
             "#fde0ef"
            ],
            [
             0.5,
             "#f7f7f7"
            ],
            [
             0.6,
             "#e6f5d0"
            ],
            [
             0.7,
             "#b8e186"
            ],
            [
             0.8,
             "#7fbc41"
            ],
            [
             0.9,
             "#4d9221"
            ],
            [
             1,
             "#276419"
            ]
           ],
           "sequential": [
            [
             0,
             "#0d0887"
            ],
            [
             0.1111111111111111,
             "#46039f"
            ],
            [
             0.2222222222222222,
             "#7201a8"
            ],
            [
             0.3333333333333333,
             "#9c179e"
            ],
            [
             0.4444444444444444,
             "#bd3786"
            ],
            [
             0.5555555555555556,
             "#d8576b"
            ],
            [
             0.6666666666666666,
             "#ed7953"
            ],
            [
             0.7777777777777778,
             "#fb9f3a"
            ],
            [
             0.8888888888888888,
             "#fdca26"
            ],
            [
             1,
             "#f0f921"
            ]
           ],
           "sequentialminus": [
            [
             0,
             "#0d0887"
            ],
            [
             0.1111111111111111,
             "#46039f"
            ],
            [
             0.2222222222222222,
             "#7201a8"
            ],
            [
             0.3333333333333333,
             "#9c179e"
            ],
            [
             0.4444444444444444,
             "#bd3786"
            ],
            [
             0.5555555555555556,
             "#d8576b"
            ],
            [
             0.6666666666666666,
             "#ed7953"
            ],
            [
             0.7777777777777778,
             "#fb9f3a"
            ],
            [
             0.8888888888888888,
             "#fdca26"
            ],
            [
             1,
             "#f0f921"
            ]
           ]
          },
          "colorway": [
           "#636efa",
           "#EF553B",
           "#00cc96",
           "#ab63fa",
           "#FFA15A",
           "#19d3f3",
           "#FF6692",
           "#B6E880",
           "#FF97FF",
           "#FECB52"
          ],
          "font": {
           "color": "#2a3f5f"
          },
          "geo": {
           "bgcolor": "white",
           "lakecolor": "white",
           "landcolor": "#E5ECF6",
           "showlakes": true,
           "showland": true,
           "subunitcolor": "white"
          },
          "hoverlabel": {
           "align": "left"
          },
          "hovermode": "closest",
          "mapbox": {
           "style": "light"
          },
          "paper_bgcolor": "white",
          "plot_bgcolor": "#E5ECF6",
          "polar": {
           "angularaxis": {
            "gridcolor": "white",
            "linecolor": "white",
            "ticks": ""
           },
           "bgcolor": "#E5ECF6",
           "radialaxis": {
            "gridcolor": "white",
            "linecolor": "white",
            "ticks": ""
           }
          },
          "scene": {
           "xaxis": {
            "backgroundcolor": "#E5ECF6",
            "gridcolor": "white",
            "gridwidth": 2,
            "linecolor": "white",
            "showbackground": true,
            "ticks": "",
            "zerolinecolor": "white"
           },
           "yaxis": {
            "backgroundcolor": "#E5ECF6",
            "gridcolor": "white",
            "gridwidth": 2,
            "linecolor": "white",
            "showbackground": true,
            "ticks": "",
            "zerolinecolor": "white"
           },
           "zaxis": {
            "backgroundcolor": "#E5ECF6",
            "gridcolor": "white",
            "gridwidth": 2,
            "linecolor": "white",
            "showbackground": true,
            "ticks": "",
            "zerolinecolor": "white"
           }
          },
          "shapedefaults": {
           "line": {
            "color": "#2a3f5f"
           }
          },
          "ternary": {
           "aaxis": {
            "gridcolor": "white",
            "linecolor": "white",
            "ticks": ""
           },
           "baxis": {
            "gridcolor": "white",
            "linecolor": "white",
            "ticks": ""
           },
           "bgcolor": "#E5ECF6",
           "caxis": {
            "gridcolor": "white",
            "linecolor": "white",
            "ticks": ""
           }
          },
          "title": {
           "x": 0.05
          },
          "xaxis": {
           "automargin": true,
           "gridcolor": "white",
           "linecolor": "white",
           "ticks": "",
           "title": {
            "standoff": 15
           },
           "zerolinecolor": "white",
           "zerolinewidth": 2
          },
          "yaxis": {
           "automargin": true,
           "gridcolor": "white",
           "linecolor": "white",
           "ticks": "",
           "title": {
            "standoff": 15
           },
           "zerolinecolor": "white",
           "zerolinewidth": 2
          }
         }
        }
       }
      }
     },
     "metadata": {},
     "output_type": "display_data"
    }
   ],
   "source": [
    "fig = go.Figure()\n",
    "annotations=[]\n",
    "fig.add_trace(go.Scatter(x=end['Date'], y=end['Close'],\n",
    "                    mode='lines',\n",
    "                    name='Price'))\n",
    "fig.add_trace(go.Scatter(x=justnews['Date'], y=justnews['Close'],\n",
    "                    mode='markers',\n",
    "                    name='Event',\n",
    "                    line=dict(color='firebrick', width=4,\n",
    "                              dash='dash'),                    \n",
    "                    )\n",
    " )\n",
    "\n",
    "for index, row in justnews.iterrows():\n",
    "        annotations.append( dict(\n",
    "                            # title = 'Gold Price Time',\n",
    "                            text=row['Description'],\n",
    "                            x=row['Date'],\n",
    "                            y=row['Close'],\n",
    "                            xref=\"x\", \n",
    "                            yref=\"y\",\n",
    "                            showarrow=True,\n",
    "                            ax=0,\n",
    "                            ay=-(row['Close'] / 70),\n",
    "                            arrowcolor ='#999999',\n",
    "                            arrowsize=0.3,\n",
    "                            arrowwidth=1.4,\n",
    "                            bordercolor='#A0C49D',\n",
    "                            captureevents =True,\n",
    "                            opacity = 0.7,\n",
    "                            hovertext=f\"{row['Description']} \\n {row['Close']}\",\n",
    "                            clicktoshow=\"onoff\",\n",
    "                            \n",
    "                            xanchor= 'auto',\n",
    "                            yanchor = 'bottom',\n",
    "                            arrowhead= 1,\n",
    "                            arrowside ='start' ,\n",
    "                            borderpad=5,\n",
    "                            borderwidth=0,  \n",
    "                            \n",
    "                            hoverlabel= dict(\n",
    "                                bgcolor='#DDE6ED',\n",
    "                                bordercolor='#19376D',\n",
    "                            ),\n",
    "                            font=dict(\n",
    "                                color='#19376D',\n",
    "                                family=\"Balto\",\n",
    "                                size=8\n",
    "                            )\n",
    "                            \n",
    "                            \n",
    "                            )\n",
    "        )\n",
    "\n",
    "fig.update_layout(annotations=annotations)\n",
    "fig.show()"
   ]
  },
  {
   "cell_type": "code",
   "execution_count": null,
   "metadata": {},
   "outputs": [],
   "source": []
  }
 ],
 "metadata": {
  "kernelspec": {
   "display_name": "Python 3",
   "language": "python",
   "name": "python3"
  },
  "language_info": {
   "codemirror_mode": {
    "name": "ipython",
    "version": 3
   },
   "file_extension": ".py",
   "mimetype": "text/x-python",
   "name": "python",
   "nbconvert_exporter": "python",
   "pygments_lexer": "ipython3",
   "version": "3.10.8"
  },
  "orig_nbformat": 4
 },
 "nbformat": 4,
 "nbformat_minor": 2
}
