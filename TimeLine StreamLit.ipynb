{
 "cells": [
  {
   "attachments": {},
   "cell_type": "markdown",
   "metadata": {},
   "source": [
    "## Import Packages"
   ]
  },
  {
   "cell_type": "code",
   "execution_count": 1,
   "metadata": {},
   "outputs": [],
   "source": [
    "import numpy as np\n",
    "import pandas as pd\n",
    "import matplotlib.pyplot as plt\n",
    "import numpy as np\n",
    "import matplotlib.dates as mdates\n",
    "from datetime import datetime\n",
    "from plotly.subplots import make_subplots\n",
    "import plotly.graph_objects as go\n",
    "import os \n",
    "os.chdir(rf'E:\\Prefessional  Python\\Clone From Git\\Timeline')\n",
    "\n",
    "gold = pd.read_pickle(rf'Data\\CleanData.csv') "
   ]
  },
  {
   "attachments": {},
   "cell_type": "markdown",
   "metadata": {},
   "source": [
    "## Check in in specific Date"
   ]
  },
  {
   "cell_type": "code",
   "execution_count": 4,
   "metadata": {},
   "outputs": [],
   "source": [
    "start = gold[gold['Date'] > '2019-01-02']\n",
    "end = start[start['Date'] < '2019-10-02']\n",
    "price = end.copy()\n",
    "\n",
    "# line price in price DataFrame\n",
    "price.reset_index(inplace=True)\n",
    "\n",
    "# Event point in justnews DataFrame\n",
    "justnews=end.dropna()\n"
   ]
  },
  {
   "cell_type": "code",
   "execution_count": 5,
   "metadata": {},
   "outputs": [
    {
     "data": {
      "application/vnd.plotly.v1+json": {
       "config": {
        "plotlyServerURL": "https://plot.ly"
       },
       "data": [
        {
         "mode": "lines",
         "name": "Price",
         "type": "scatter",
         "x": [
          "2019-01-03",
          "2019-01-04",
          "2019-01-07",
          "2019-01-08",
          "2019-01-09",
          "2019-01-10",
          "2019-01-11",
          "2019-01-14",
          "2019-01-15",
          "2019-01-16",
          "2019-01-17",
          "2019-01-18",
          "2019-01-21",
          "2019-01-23",
          "2019-01-24",
          "2019-01-25",
          "2019-01-28",
          "2019-01-29",
          "2019-01-30",
          "2019-01-31",
          "2019-02-01",
          "2019-02-04",
          "2019-02-05",
          "2019-02-06",
          "2019-02-07",
          "2019-02-08",
          "2019-02-12",
          "2019-02-13",
          "2019-02-14",
          "2019-02-15",
          "2019-02-18",
          "2019-02-20",
          "2019-02-21",
          "2019-02-22",
          "2019-02-25",
          "2019-02-26",
          "2019-02-27",
          "2019-02-28",
          "2019-03-01",
          "2019-03-04",
          "2019-03-05",
          "2019-03-06",
          "2019-03-07",
          "2019-03-08",
          "2019-03-11",
          "2019-03-12",
          "2019-03-13",
          "2019-03-14",
          "2019-03-15",
          "2019-03-18",
          "2019-03-19",
          "2019-03-20",
          "2019-03-21",
          "2019-03-22",
          "2019-03-25",
          "2019-03-26",
          "2019-03-27",
          "2019-03-28",
          "2019-03-29",
          "2019-04-01",
          "2019-04-02",
          "2019-04-03",
          "2019-04-04",
          "2019-04-05",
          "2019-04-08",
          "2019-04-09",
          "2019-04-10",
          "2019-04-11",
          "2019-04-12",
          "2019-04-15",
          "2019-04-16",
          "2019-04-17",
          "2019-04-18",
          "2019-04-22",
          "2019-04-23",
          "2019-04-24",
          "2019-04-25",
          "2019-04-26",
          "2019-04-29",
          "2019-04-30",
          "2019-05-01",
          "2019-05-02",
          "2019-05-03",
          "2019-05-06",
          "2019-05-07",
          "2019-05-08",
          "2019-05-09",
          "2019-05-10",
          "2019-05-13",
          "2019-05-14",
          "2019-05-15",
          "2019-05-16",
          "2019-05-17",
          "2019-05-20",
          "2019-05-21",
          "2019-05-22",
          "2019-05-23",
          "2019-05-24",
          "2019-05-27",
          "2019-05-29",
          "2019-05-30",
          "2019-05-31",
          "2019-06-03",
          "2019-06-04",
          "2019-06-05",
          "2019-06-06",
          "2019-06-07",
          "2019-06-10",
          "2019-06-11",
          "2019-06-12",
          "2019-06-13",
          "2019-06-14",
          "2019-06-17",
          "2019-06-18",
          "2019-06-19",
          "2019-06-20",
          "2019-06-21",
          "2019-06-24",
          "2019-06-25",
          "2019-06-26",
          "2019-06-27",
          "2019-06-28",
          "2019-07-01",
          "2019-07-02",
          "2019-07-03",
          "2019-07-04",
          "2019-07-08",
          "2019-07-09",
          "2019-07-10",
          "2019-07-11",
          "2019-07-12",
          "2019-07-15",
          "2019-07-16",
          "2019-07-17",
          "2019-07-18",
          "2019-07-19",
          "2019-07-22",
          "2019-07-23",
          "2019-07-24",
          "2019-07-25",
          "2019-07-26",
          "2019-07-29",
          "2019-07-30",
          "2019-07-31",
          "2019-08-01",
          "2019-08-02",
          "2019-08-05",
          "2019-08-06",
          "2019-08-07",
          "2019-08-08",
          "2019-08-09",
          "2019-08-12",
          "2019-08-13",
          "2019-08-14",
          "2019-08-15",
          "2019-08-16",
          "2019-08-19",
          "2019-08-20",
          "2019-08-21",
          "2019-08-22",
          "2019-08-23",
          "2019-08-26",
          "2019-08-27",
          "2019-08-28",
          "2019-08-29",
          "2019-08-30",
          "2019-09-02",
          "2019-09-04",
          "2019-09-05",
          "2019-09-06",
          "2019-09-09",
          "2019-09-10",
          "2019-09-11",
          "2019-09-12",
          "2019-09-13",
          "2019-09-16",
          "2019-09-17",
          "2019-09-18",
          "2019-09-19",
          "2019-09-20",
          "2019-09-23",
          "2019-09-24",
          "2019-09-25",
          "2019-09-26",
          "2019-09-27",
          "2019-09-30",
          "2019-10-01"
         ],
         "y": [
          1294.8,
          1285.8,
          1289.9,
          1285.9,
          1292,
          1287.4,
          1289.5,
          1291.3,
          1288.4,
          1293.8,
          1292.3,
          1282.6,
          1283.4,
          1284,
          1279.8,
          1298.1,
          1303.1,
          1308.9,
          1315.5,
          1325.2,
          1322.1,
          1319.3,
          1319.2,
          1314.4,
          1314.2,
          1318.5,
          1314,
          1315.1,
          1313.9,
          1322.1,
          1344.8,
          1347.9,
          1327.8,
          1332.8,
          1329.5,
          1328.5,
          1321.2,
          1316.1,
          1299.2,
          1287.5,
          1284.7,
          1287.6,
          1286.1,
          1299.3,
          1291.1,
          1298.1,
          1309.3,
          1295.1,
          1302.9,
          1301.5,
          1306.5,
          1301.7,
          1307.3,
          1312.3,
          1322.6,
          1315,
          1310.4,
          1295.3,
          1298.5,
          1294.2,
          1295.4,
          1295.3,
          1294.3,
          1295.6,
          1301.9,
          1308.3,
          1313.9,
          1293.3,
          1295.2,
          1291.3,
          1277.2,
          1276.8,
          1276,
          1277.6,
          1273.2,
          1279.4,
          1279.7,
          1288.8,
          1281.5,
          1285.7,
          1284.2,
          1272,
          1281.3,
          1283.8,
          1285.6,
          1281.4,
          1285.2,
          1287.4,
          1301.8,
          1296.3,
          1297.8,
          1286.2,
          1275.7,
          1277.3,
          1273.2,
          1274.2,
          1285.4,
          1283.6,
          1277.1,
          1281,
          1292.4,
          1311.1,
          1327.9,
          1328.7,
          1333.6,
          1342.7,
          1346.1,
          1329.3,
          1331.2,
          1336.8,
          1343.7,
          1344.5,
          1342.9,
          1350.7,
          1348.8,
          1396.9,
          1400.1,
          1418.2,
          1418.7,
          1415.4,
          1412,
          1413.7,
          1389.3,
          1408,
          1420.9,
          1400.1,
          1400,
          1400.5,
          1412.5,
          1406.7,
          1412.2,
          1413.5,
          1411.2,
          1423.3,
          1428.1,
          1426.7,
          1426.9,
          1421.7,
          1423.6,
          1414.7,
          1419.3,
          1420.4,
          1441.8,
          1437.8,
          1432.4,
          1457.5,
          1476.5,
          1484.2,
          1519.6,
          1509.5,
          1508.5,
          1517.2,
          1514.1,
          1527.8,
          1531.2,
          1523.6,
          1511.6,
          1515.7,
          1515.7,
          1508.5,
          1537.6,
          1537.2,
          1551.8,
          1549.1,
          1536.9,
          1529.4,
          1555.9,
          1560.4,
          1525.5,
          1515.5,
          1511.1,
          1499.2,
          1503.2,
          1507.4,
          1499.5,
          1511.5,
          1513.4,
          1515.8,
          1506.2,
          1515.1,
          1531.5,
          1540.2,
          1512.3,
          1515.2,
          1506.4,
          1472.9,
          1489
         ]
        },
        {
         "line": {
          "color": "firebrick",
          "dash": "dash",
          "width": 4
         },
         "mode": "markers",
         "name": "Event",
         "type": "scatter",
         "x": [
          "2019-01-03",
          "2019-01-04",
          "2019-01-16",
          "2019-01-30",
          "2019-01-31",
          "2019-02-01",
          "2019-02-06",
          "2019-02-12",
          "2019-02-26",
          "2019-02-27",
          "2019-03-07",
          "2019-03-08",
          "2019-03-11",
          "2019-03-13",
          "2019-03-15",
          "2019-03-20",
          "2019-03-21",
          "2019-03-22",
          "2019-03-28",
          "2019-03-29",
          "2019-04-04",
          "2019-04-05",
          "2019-04-11",
          "2019-04-17",
          "2019-04-18",
          "2019-04-23",
          "2019-04-25",
          "2019-04-26",
          "2019-05-01",
          "2019-05-03",
          "2019-05-07",
          "2019-05-08",
          "2019-05-16",
          "2019-05-23",
          "2019-05-30",
          "2019-06-19",
          "2019-06-20",
          "2019-06-21",
          "2019-06-26",
          "2019-07-10",
          "2019-07-11",
          "2019-07-16",
          "2019-07-17",
          "2019-07-24",
          "2019-07-25",
          "2019-07-26",
          "2019-07-31",
          "2019-08-08",
          "2019-08-13",
          "2019-08-15",
          "2019-08-16",
          "2019-08-21",
          "2019-08-22",
          "2019-08-28",
          "2019-09-05",
          "2019-09-11",
          "2019-09-12",
          "2019-09-13",
          "2019-09-18",
          "2019-09-19",
          "2019-09-25",
          "2019-09-26",
          "2019-09-27"
         ],
         "y": [
          1294.8,
          1285.8,
          1293.8,
          1315.5,
          1325.2,
          1322.1,
          1314.4,
          1314,
          1328.5,
          1321.2,
          1286.1,
          1299.3,
          1291.1,
          1309.3,
          1302.9,
          1301.7,
          1307.3,
          1312.3,
          1295.3,
          1298.5,
          1294.3,
          1295.6,
          1293.3,
          1276.8,
          1276,
          1273.2,
          1279.7,
          1288.8,
          1284.2,
          1281.3,
          1285.6,
          1281.4,
          1286.2,
          1285.4,
          1292.4,
          1348.8,
          1396.9,
          1400.1,
          1415.4,
          1412.5,
          1406.7,
          1411.2,
          1423.3,
          1423.6,
          1414.7,
          1419.3,
          1437.8,
          1509.5,
          1514.1,
          1531.2,
          1523.6,
          1515.7,
          1508.5,
          1549.1,
          1525.5,
          1503.2,
          1507.4,
          1499.5,
          1515.8,
          1506.2,
          1512.3,
          1515.2,
          1506.4
         ]
        }
       ],
       "layout": {
        "annotations": [
         {
          "arrowcolor": "#999999",
          "arrowhead": 1,
          "arrowside": "start",
          "arrowsize": 0.3,
          "arrowwidth": 1.4,
          "ax": 0,
          "ay": -18.497142857142858,
          "bordercolor": "#A0C49D",
          "borderpad": 5,
          "borderwidth": 0,
          "captureevents": true,
          "clicktoshow": "onoff",
          "font": {
           "color": "#19376D",
           "family": "Balto",
           "size": 8
          },
          "hoverlabel": {
           "bgcolor": "#DDE6ED",
           "bordercolor": "#19376D"
          },
          "hovertext": "ADP Nonfarm Employment Change  \n 1294.8",
          "opacity": 0.7,
          "showarrow": true,
          "text": "ADP Nonfarm Employment Change ",
          "x": "2019-01-03",
          "xanchor": "auto",
          "xref": "x",
          "y": 1294.8,
          "yanchor": "bottom",
          "yref": "y"
         },
         {
          "arrowcolor": "#999999",
          "arrowhead": 1,
          "arrowside": "start",
          "arrowsize": 0.3,
          "arrowwidth": 1.4,
          "ax": 0,
          "ay": -18.36857142857143,
          "bordercolor": "#A0C49D",
          "borderpad": 5,
          "borderwidth": 0,
          "captureevents": true,
          "clicktoshow": "onoff",
          "font": {
           "color": "#19376D",
           "family": "Balto",
           "size": 8
          },
          "hoverlabel": {
           "bgcolor": "#DDE6ED",
           "bordercolor": "#19376D"
          },
          "hovertext": "Nonfarm Payrolls \n 1285.8",
          "opacity": 0.7,
          "showarrow": true,
          "text": "Nonfarm Payrolls",
          "x": "2019-01-04",
          "xanchor": "auto",
          "xref": "x",
          "y": 1285.8,
          "yanchor": "bottom",
          "yref": "y"
         },
         {
          "arrowcolor": "#999999",
          "arrowhead": 1,
          "arrowside": "start",
          "arrowsize": 0.3,
          "arrowwidth": 1.4,
          "ax": 0,
          "ay": -18.482857142857142,
          "bordercolor": "#A0C49D",
          "borderpad": 5,
          "borderwidth": 0,
          "captureevents": true,
          "clicktoshow": "onoff",
          "font": {
           "color": "#19376D",
           "family": "Balto",
           "size": 8
          },
          "hoverlabel": {
           "bgcolor": "#DDE6ED",
           "bordercolor": "#19376D"
          },
          "hovertext": "Crude Oil Inventories  \n 1293.8",
          "opacity": 0.7,
          "showarrow": true,
          "text": "Crude Oil Inventories ",
          "x": "2019-01-16",
          "xanchor": "auto",
          "xref": "x",
          "y": 1293.8,
          "yanchor": "bottom",
          "yref": "y"
         },
         {
          "arrowcolor": "#999999",
          "arrowhead": 1,
          "arrowside": "start",
          "arrowsize": 0.3,
          "arrowwidth": 1.4,
          "ax": 0,
          "ay": -18.792857142857144,
          "bordercolor": "#A0C49D",
          "borderpad": 5,
          "borderwidth": 0,
          "captureevents": true,
          "clicktoshow": "onoff",
          "font": {
           "color": "#19376D",
           "family": "Balto",
           "size": 8
          },
          "hoverlabel": {
           "bgcolor": "#DDE6ED",
           "bordercolor": "#19376D"
          },
          "hovertext": "ADP Nonfarm Employment Change  \n 1315.5",
          "opacity": 0.7,
          "showarrow": true,
          "text": "ADP Nonfarm Employment Change ",
          "x": "2019-01-30",
          "xanchor": "auto",
          "xref": "x",
          "y": 1315.5,
          "yanchor": "bottom",
          "yref": "y"
         },
         {
          "arrowcolor": "#999999",
          "arrowhead": 1,
          "arrowside": "start",
          "arrowsize": 0.3,
          "arrowwidth": 1.4,
          "ax": 0,
          "ay": -18.931428571428572,
          "bordercolor": "#A0C49D",
          "borderpad": 5,
          "borderwidth": 0,
          "captureevents": true,
          "clicktoshow": "onoff",
          "font": {
           "color": "#19376D",
           "family": "Balto",
           "size": 8
          },
          "hoverlabel": {
           "bgcolor": "#DDE6ED",
           "bordercolor": "#19376D"
          },
          "hovertext": "New Home Sales \n 1325.2",
          "opacity": 0.7,
          "showarrow": true,
          "text": "New Home Sales",
          "x": "2019-01-31",
          "xanchor": "auto",
          "xref": "x",
          "y": 1325.2,
          "yanchor": "bottom",
          "yref": "y"
         },
         {
          "arrowcolor": "#999999",
          "arrowhead": 1,
          "arrowside": "start",
          "arrowsize": 0.3,
          "arrowwidth": 1.4,
          "ax": 0,
          "ay": -18.887142857142855,
          "bordercolor": "#A0C49D",
          "borderpad": 5,
          "borderwidth": 0,
          "captureevents": true,
          "clicktoshow": "onoff",
          "font": {
           "color": "#19376D",
           "family": "Balto",
           "size": 8
          },
          "hoverlabel": {
           "bgcolor": "#DDE6ED",
           "bordercolor": "#19376D"
          },
          "hovertext": "Nonfarm Payrolls \n 1322.1",
          "opacity": 0.7,
          "showarrow": true,
          "text": "Nonfarm Payrolls",
          "x": "2019-02-01",
          "xanchor": "auto",
          "xref": "x",
          "y": 1322.1,
          "yanchor": "bottom",
          "yref": "y"
         },
         {
          "arrowcolor": "#999999",
          "arrowhead": 1,
          "arrowside": "start",
          "arrowsize": 0.3,
          "arrowwidth": 1.4,
          "ax": 0,
          "ay": -18.77714285714286,
          "bordercolor": "#A0C49D",
          "borderpad": 5,
          "borderwidth": 0,
          "captureevents": true,
          "clicktoshow": "onoff",
          "font": {
           "color": "#19376D",
           "family": "Balto",
           "size": 8
          },
          "hoverlabel": {
           "bgcolor": "#DDE6ED",
           "bordercolor": "#19376D"
          },
          "hovertext": "Crude Oil Inventories  \n 1314.4",
          "opacity": 0.7,
          "showarrow": true,
          "text": "Crude Oil Inventories ",
          "x": "2019-02-06",
          "xanchor": "auto",
          "xref": "x",
          "y": 1314.4,
          "yanchor": "bottom",
          "yref": "y"
         },
         {
          "arrowcolor": "#999999",
          "arrowhead": 1,
          "arrowside": "start",
          "arrowsize": 0.3,
          "arrowwidth": 1.4,
          "ax": 0,
          "ay": -18.771428571428572,
          "bordercolor": "#A0C49D",
          "borderpad": 5,
          "borderwidth": 0,
          "captureevents": true,
          "clicktoshow": "onoff",
          "font": {
           "color": "#19376D",
           "family": "Balto",
           "size": 8
          },
          "hoverlabel": {
           "bgcolor": "#DDE6ED",
           "bordercolor": "#19376D"
          },
          "hovertext": "JOLTs Job Openings \n 1314.0",
          "opacity": 0.7,
          "showarrow": true,
          "text": "JOLTs Job Openings",
          "x": "2019-02-12",
          "xanchor": "auto",
          "xref": "x",
          "y": 1314,
          "yanchor": "bottom",
          "yref": "y"
         },
         {
          "arrowcolor": "#999999",
          "arrowhead": 1,
          "arrowside": "start",
          "arrowsize": 0.3,
          "arrowwidth": 1.4,
          "ax": 0,
          "ay": -18.978571428571428,
          "bordercolor": "#A0C49D",
          "borderpad": 5,
          "borderwidth": 0,
          "captureevents": true,
          "clicktoshow": "onoff",
          "font": {
           "color": "#19376D",
           "family": "Balto",
           "size": 8
          },
          "hoverlabel": {
           "bgcolor": "#DDE6ED",
           "bordercolor": "#19376D"
          },
          "hovertext": "Building Permits \n 1328.5",
          "opacity": 0.7,
          "showarrow": true,
          "text": "Building Permits",
          "x": "2019-02-26",
          "xanchor": "auto",
          "xref": "x",
          "y": 1328.5,
          "yanchor": "bottom",
          "yref": "y"
         },
         {
          "arrowcolor": "#999999",
          "arrowhead": 1,
          "arrowside": "start",
          "arrowsize": 0.3,
          "arrowwidth": 1.4,
          "ax": 0,
          "ay": -18.874285714285715,
          "bordercolor": "#A0C49D",
          "borderpad": 5,
          "borderwidth": 0,
          "captureevents": true,
          "clicktoshow": "onoff",
          "font": {
           "color": "#19376D",
           "family": "Balto",
           "size": 8
          },
          "hoverlabel": {
           "bgcolor": "#DDE6ED",
           "bordercolor": "#19376D"
          },
          "hovertext": "Pending Home Sales \n 1321.2",
          "opacity": 0.7,
          "showarrow": true,
          "text": "Pending Home Sales",
          "x": "2019-02-27",
          "xanchor": "auto",
          "xref": "x",
          "y": 1321.2,
          "yanchor": "bottom",
          "yref": "y"
         },
         {
          "arrowcolor": "#999999",
          "arrowhead": 1,
          "arrowside": "start",
          "arrowsize": 0.3,
          "arrowwidth": 1.4,
          "ax": 0,
          "ay": -18.372857142857143,
          "bordercolor": "#A0C49D",
          "borderpad": 5,
          "borderwidth": 0,
          "captureevents": true,
          "clicktoshow": "onoff",
          "font": {
           "color": "#19376D",
           "family": "Balto",
           "size": 8
          },
          "hoverlabel": {
           "bgcolor": "#DDE6ED",
           "bordercolor": "#19376D"
          },
          "hovertext": "Initial Jobless Claims \n 1286.1",
          "opacity": 0.7,
          "showarrow": true,
          "text": "Initial Jobless Claims",
          "x": "2019-03-07",
          "xanchor": "auto",
          "xref": "x",
          "y": 1286.1,
          "yanchor": "bottom",
          "yref": "y"
         },
         {
          "arrowcolor": "#999999",
          "arrowhead": 1,
          "arrowside": "start",
          "arrowsize": 0.3,
          "arrowwidth": 1.4,
          "ax": 0,
          "ay": -18.56142857142857,
          "bordercolor": "#A0C49D",
          "borderpad": 5,
          "borderwidth": 0,
          "captureevents": true,
          "clicktoshow": "onoff",
          "font": {
           "color": "#19376D",
           "family": "Balto",
           "size": 8
          },
          "hoverlabel": {
           "bgcolor": "#DDE6ED",
           "bordercolor": "#19376D"
          },
          "hovertext": "Building Permits \n 1299.3",
          "opacity": 0.7,
          "showarrow": true,
          "text": "Building Permits",
          "x": "2019-03-08",
          "xanchor": "auto",
          "xref": "x",
          "y": 1299.3,
          "yanchor": "bottom",
          "yref": "y"
         },
         {
          "arrowcolor": "#999999",
          "arrowhead": 1,
          "arrowside": "start",
          "arrowsize": 0.3,
          "arrowwidth": 1.4,
          "ax": 0,
          "ay": -18.444285714285712,
          "bordercolor": "#A0C49D",
          "borderpad": 5,
          "borderwidth": 0,
          "captureevents": true,
          "clicktoshow": "onoff",
          "font": {
           "color": "#19376D",
           "family": "Balto",
           "size": 8
          },
          "hoverlabel": {
           "bgcolor": "#DDE6ED",
           "bordercolor": "#19376D"
          },
          "hovertext": "Core Retail Sales  \n 1291.1",
          "opacity": 0.7,
          "showarrow": true,
          "text": "Core Retail Sales ",
          "x": "2019-03-11",
          "xanchor": "auto",
          "xref": "x",
          "y": 1291.1,
          "yanchor": "bottom",
          "yref": "y"
         },
         {
          "arrowcolor": "#999999",
          "arrowhead": 1,
          "arrowside": "start",
          "arrowsize": 0.3,
          "arrowwidth": 1.4,
          "ax": 0,
          "ay": -18.704285714285714,
          "bordercolor": "#A0C49D",
          "borderpad": 5,
          "borderwidth": 0,
          "captureevents": true,
          "clicktoshow": "onoff",
          "font": {
           "color": "#19376D",
           "family": "Balto",
           "size": 8
          },
          "hoverlabel": {
           "bgcolor": "#DDE6ED",
           "bordercolor": "#19376D"
          },
          "hovertext": "Crude Oil Inventories  \n 1309.3",
          "opacity": 0.7,
          "showarrow": true,
          "text": "Crude Oil Inventories ",
          "x": "2019-03-13",
          "xanchor": "auto",
          "xref": "x",
          "y": 1309.3,
          "yanchor": "bottom",
          "yref": "y"
         },
         {
          "arrowcolor": "#999999",
          "arrowhead": 1,
          "arrowside": "start",
          "arrowsize": 0.3,
          "arrowwidth": 1.4,
          "ax": 0,
          "ay": -18.612857142857145,
          "bordercolor": "#A0C49D",
          "borderpad": 5,
          "borderwidth": 0,
          "captureevents": true,
          "clicktoshow": "onoff",
          "font": {
           "color": "#19376D",
           "family": "Balto",
           "size": 8
          },
          "hoverlabel": {
           "bgcolor": "#DDE6ED",
           "bordercolor": "#19376D"
          },
          "hovertext": "JOLTs Job Openings \n 1302.9",
          "opacity": 0.7,
          "showarrow": true,
          "text": "JOLTs Job Openings",
          "x": "2019-03-15",
          "xanchor": "auto",
          "xref": "x",
          "y": 1302.9,
          "yanchor": "bottom",
          "yref": "y"
         },
         {
          "arrowcolor": "#999999",
          "arrowhead": 1,
          "arrowside": "start",
          "arrowsize": 0.3,
          "arrowwidth": 1.4,
          "ax": 0,
          "ay": -18.595714285714287,
          "bordercolor": "#A0C49D",
          "borderpad": 5,
          "borderwidth": 0,
          "captureevents": true,
          "clicktoshow": "onoff",
          "font": {
           "color": "#19376D",
           "family": "Balto",
           "size": 8
          },
          "hoverlabel": {
           "bgcolor": "#DDE6ED",
           "bordercolor": "#19376D"
          },
          "hovertext": "Crude Oil Inventories  \n 1301.7",
          "opacity": 0.7,
          "showarrow": true,
          "text": "Crude Oil Inventories ",
          "x": "2019-03-20",
          "xanchor": "auto",
          "xref": "x",
          "y": 1301.7,
          "yanchor": "bottom",
          "yref": "y"
         },
         {
          "arrowcolor": "#999999",
          "arrowhead": 1,
          "arrowside": "start",
          "arrowsize": 0.3,
          "arrowwidth": 1.4,
          "ax": 0,
          "ay": -18.675714285714285,
          "bordercolor": "#A0C49D",
          "borderpad": 5,
          "borderwidth": 0,
          "captureevents": true,
          "clicktoshow": "onoff",
          "font": {
           "color": "#19376D",
           "family": "Balto",
           "size": 8
          },
          "hoverlabel": {
           "bgcolor": "#DDE6ED",
           "bordercolor": "#19376D"
          },
          "hovertext": "Initial Jobless Claims \n 1307.3",
          "opacity": 0.7,
          "showarrow": true,
          "text": "Initial Jobless Claims",
          "x": "2019-03-21",
          "xanchor": "auto",
          "xref": "x",
          "y": 1307.3,
          "yanchor": "bottom",
          "yref": "y"
         },
         {
          "arrowcolor": "#999999",
          "arrowhead": 1,
          "arrowside": "start",
          "arrowsize": 0.3,
          "arrowwidth": 1.4,
          "ax": 0,
          "ay": -18.747142857142858,
          "bordercolor": "#A0C49D",
          "borderpad": 5,
          "borderwidth": 0,
          "captureevents": true,
          "clicktoshow": "onoff",
          "font": {
           "color": "#19376D",
           "family": "Balto",
           "size": 8
          },
          "hoverlabel": {
           "bgcolor": "#DDE6ED",
           "bordercolor": "#19376D"
          },
          "hovertext": "Existing Home Sales  \n 1312.3",
          "opacity": 0.7,
          "showarrow": true,
          "text": "Existing Home Sales ",
          "x": "2019-03-22",
          "xanchor": "auto",
          "xref": "x",
          "y": 1312.3,
          "yanchor": "bottom",
          "yref": "y"
         },
         {
          "arrowcolor": "#999999",
          "arrowhead": 1,
          "arrowside": "start",
          "arrowsize": 0.3,
          "arrowwidth": 1.4,
          "ax": 0,
          "ay": -18.504285714285714,
          "bordercolor": "#A0C49D",
          "borderpad": 5,
          "borderwidth": 0,
          "captureevents": true,
          "clicktoshow": "onoff",
          "font": {
           "color": "#19376D",
           "family": "Balto",
           "size": 8
          },
          "hoverlabel": {
           "bgcolor": "#DDE6ED",
           "bordercolor": "#19376D"
          },
          "hovertext": "Initial Jobless Claims \n 1295.3",
          "opacity": 0.7,
          "showarrow": true,
          "text": "Initial Jobless Claims",
          "x": "2019-03-28",
          "xanchor": "auto",
          "xref": "x",
          "y": 1295.3,
          "yanchor": "bottom",
          "yref": "y"
         },
         {
          "arrowcolor": "#999999",
          "arrowhead": 1,
          "arrowside": "start",
          "arrowsize": 0.3,
          "arrowwidth": 1.4,
          "ax": 0,
          "ay": -18.55,
          "bordercolor": "#A0C49D",
          "borderpad": 5,
          "borderwidth": 0,
          "captureevents": true,
          "clicktoshow": "onoff",
          "font": {
           "color": "#19376D",
           "family": "Balto",
           "size": 8
          },
          "hoverlabel": {
           "bgcolor": "#DDE6ED",
           "bordercolor": "#19376D"
          },
          "hovertext": "New Home Sales \n 1298.5",
          "opacity": 0.7,
          "showarrow": true,
          "text": "New Home Sales",
          "x": "2019-03-29",
          "xanchor": "auto",
          "xref": "x",
          "y": 1298.5,
          "yanchor": "bottom",
          "yref": "y"
         },
         {
          "arrowcolor": "#999999",
          "arrowhead": 1,
          "arrowside": "start",
          "arrowsize": 0.3,
          "arrowwidth": 1.4,
          "ax": 0,
          "ay": -18.49,
          "bordercolor": "#A0C49D",
          "borderpad": 5,
          "borderwidth": 0,
          "captureevents": true,
          "clicktoshow": "onoff",
          "font": {
           "color": "#19376D",
           "family": "Balto",
           "size": 8
          },
          "hoverlabel": {
           "bgcolor": "#DDE6ED",
           "bordercolor": "#19376D"
          },
          "hovertext": "Initial Jobless Claims \n 1294.3",
          "opacity": 0.7,
          "showarrow": true,
          "text": "Initial Jobless Claims",
          "x": "2019-04-04",
          "xanchor": "auto",
          "xref": "x",
          "y": 1294.3,
          "yanchor": "bottom",
          "yref": "y"
         },
         {
          "arrowcolor": "#999999",
          "arrowhead": 1,
          "arrowside": "start",
          "arrowsize": 0.3,
          "arrowwidth": 1.4,
          "ax": 0,
          "ay": -18.50857142857143,
          "bordercolor": "#A0C49D",
          "borderpad": 5,
          "borderwidth": 0,
          "captureevents": true,
          "clicktoshow": "onoff",
          "font": {
           "color": "#19376D",
           "family": "Balto",
           "size": 8
          },
          "hoverlabel": {
           "bgcolor": "#DDE6ED",
           "bordercolor": "#19376D"
          },
          "hovertext": "Nonfarm Payrolls \n 1295.6",
          "opacity": 0.7,
          "showarrow": true,
          "text": "Nonfarm Payrolls",
          "x": "2019-04-05",
          "xanchor": "auto",
          "xref": "x",
          "y": 1295.6,
          "yanchor": "bottom",
          "yref": "y"
         },
         {
          "arrowcolor": "#999999",
          "arrowhead": 1,
          "arrowside": "start",
          "arrowsize": 0.3,
          "arrowwidth": 1.4,
          "ax": 0,
          "ay": -18.475714285714286,
          "bordercolor": "#A0C49D",
          "borderpad": 5,
          "borderwidth": 0,
          "captureevents": true,
          "clicktoshow": "onoff",
          "font": {
           "color": "#19376D",
           "family": "Balto",
           "size": 8
          },
          "hoverlabel": {
           "bgcolor": "#DDE6ED",
           "bordercolor": "#19376D"
          },
          "hovertext": "Initial Jobless Claims \n 1293.3",
          "opacity": 0.7,
          "showarrow": true,
          "text": "Initial Jobless Claims",
          "x": "2019-04-11",
          "xanchor": "auto",
          "xref": "x",
          "y": 1293.3,
          "yanchor": "bottom",
          "yref": "y"
         },
         {
          "arrowcolor": "#999999",
          "arrowhead": 1,
          "arrowside": "start",
          "arrowsize": 0.3,
          "arrowwidth": 1.4,
          "ax": 0,
          "ay": -18.24,
          "bordercolor": "#A0C49D",
          "borderpad": 5,
          "borderwidth": 0,
          "captureevents": true,
          "clicktoshow": "onoff",
          "font": {
           "color": "#19376D",
           "family": "Balto",
           "size": 8
          },
          "hoverlabel": {
           "bgcolor": "#DDE6ED",
           "bordercolor": "#19376D"
          },
          "hovertext": "Crude Oil Inventories  \n 1276.8",
          "opacity": 0.7,
          "showarrow": true,
          "text": "Crude Oil Inventories ",
          "x": "2019-04-17",
          "xanchor": "auto",
          "xref": "x",
          "y": 1276.8,
          "yanchor": "bottom",
          "yref": "y"
         },
         {
          "arrowcolor": "#999999",
          "arrowhead": 1,
          "arrowside": "start",
          "arrowsize": 0.3,
          "arrowwidth": 1.4,
          "ax": 0,
          "ay": -18.228571428571428,
          "bordercolor": "#A0C49D",
          "borderpad": 5,
          "borderwidth": 0,
          "captureevents": true,
          "clicktoshow": "onoff",
          "font": {
           "color": "#19376D",
           "family": "Balto",
           "size": 8
          },
          "hoverlabel": {
           "bgcolor": "#DDE6ED",
           "bordercolor": "#19376D"
          },
          "hovertext": "Core Retail Sales  \n 1276.0",
          "opacity": 0.7,
          "showarrow": true,
          "text": "Core Retail Sales ",
          "x": "2019-04-18",
          "xanchor": "auto",
          "xref": "x",
          "y": 1276,
          "yanchor": "bottom",
          "yref": "y"
         },
         {
          "arrowcolor": "#999999",
          "arrowhead": 1,
          "arrowside": "start",
          "arrowsize": 0.3,
          "arrowwidth": 1.4,
          "ax": 0,
          "ay": -18.18857142857143,
          "bordercolor": "#A0C49D",
          "borderpad": 5,
          "borderwidth": 0,
          "captureevents": true,
          "clicktoshow": "onoff",
          "font": {
           "color": "#19376D",
           "family": "Balto",
           "size": 8
          },
          "hoverlabel": {
           "bgcolor": "#DDE6ED",
           "bordercolor": "#19376D"
          },
          "hovertext": "New Home Sales \n 1273.2",
          "opacity": 0.7,
          "showarrow": true,
          "text": "New Home Sales",
          "x": "2019-04-23",
          "xanchor": "auto",
          "xref": "x",
          "y": 1273.2,
          "yanchor": "bottom",
          "yref": "y"
         },
         {
          "arrowcolor": "#999999",
          "arrowhead": 1,
          "arrowside": "start",
          "arrowsize": 0.3,
          "arrowwidth": 1.4,
          "ax": 0,
          "ay": -18.281428571428574,
          "bordercolor": "#A0C49D",
          "borderpad": 5,
          "borderwidth": 0,
          "captureevents": true,
          "clicktoshow": "onoff",
          "font": {
           "color": "#19376D",
           "family": "Balto",
           "size": 8
          },
          "hoverlabel": {
           "bgcolor": "#DDE6ED",
           "bordercolor": "#19376D"
          },
          "hovertext": "Core Durable Goods Orders  \n 1279.7",
          "opacity": 0.7,
          "showarrow": true,
          "text": "Core Durable Goods Orders ",
          "x": "2019-04-25",
          "xanchor": "auto",
          "xref": "x",
          "y": 1279.7,
          "yanchor": "bottom",
          "yref": "y"
         },
         {
          "arrowcolor": "#999999",
          "arrowhead": 1,
          "arrowside": "start",
          "arrowsize": 0.3,
          "arrowwidth": 1.4,
          "ax": 0,
          "ay": -18.41142857142857,
          "bordercolor": "#A0C49D",
          "borderpad": 5,
          "borderwidth": 0,
          "captureevents": true,
          "clicktoshow": "onoff",
          "font": {
           "color": "#19376D",
           "family": "Balto",
           "size": 8
          },
          "hoverlabel": {
           "bgcolor": "#DDE6ED",
           "bordercolor": "#19376D"
          },
          "hovertext": "GDP  \n 1288.8",
          "opacity": 0.7,
          "showarrow": true,
          "text": "GDP ",
          "x": "2019-04-26",
          "xanchor": "auto",
          "xref": "x",
          "y": 1288.8,
          "yanchor": "bottom",
          "yref": "y"
         },
         {
          "arrowcolor": "#999999",
          "arrowhead": 1,
          "arrowside": "start",
          "arrowsize": 0.3,
          "arrowwidth": 1.4,
          "ax": 0,
          "ay": -18.345714285714287,
          "bordercolor": "#A0C49D",
          "borderpad": 5,
          "borderwidth": 0,
          "captureevents": true,
          "clicktoshow": "onoff",
          "font": {
           "color": "#19376D",
           "family": "Balto",
           "size": 8
          },
          "hoverlabel": {
           "bgcolor": "#DDE6ED",
           "bordercolor": "#19376D"
          },
          "hovertext": "ADP Nonfarm Employment Change  \n 1284.2",
          "opacity": 0.7,
          "showarrow": true,
          "text": "ADP Nonfarm Employment Change ",
          "x": "2019-05-01",
          "xanchor": "auto",
          "xref": "x",
          "y": 1284.2,
          "yanchor": "bottom",
          "yref": "y"
         },
         {
          "arrowcolor": "#999999",
          "arrowhead": 1,
          "arrowside": "start",
          "arrowsize": 0.3,
          "arrowwidth": 1.4,
          "ax": 0,
          "ay": -18.304285714285715,
          "bordercolor": "#A0C49D",
          "borderpad": 5,
          "borderwidth": 0,
          "captureevents": true,
          "clicktoshow": "onoff",
          "font": {
           "color": "#19376D",
           "family": "Balto",
           "size": 8
          },
          "hoverlabel": {
           "bgcolor": "#DDE6ED",
           "bordercolor": "#19376D"
          },
          "hovertext": "Nonfarm Payrolls \n 1281.3",
          "opacity": 0.7,
          "showarrow": true,
          "text": "Nonfarm Payrolls",
          "x": "2019-05-03",
          "xanchor": "auto",
          "xref": "x",
          "y": 1281.3,
          "yanchor": "bottom",
          "yref": "y"
         },
         {
          "arrowcolor": "#999999",
          "arrowhead": 1,
          "arrowside": "start",
          "arrowsize": 0.3,
          "arrowwidth": 1.4,
          "ax": 0,
          "ay": -18.365714285714283,
          "bordercolor": "#A0C49D",
          "borderpad": 5,
          "borderwidth": 0,
          "captureevents": true,
          "clicktoshow": "onoff",
          "font": {
           "color": "#19376D",
           "family": "Balto",
           "size": 8
          },
          "hoverlabel": {
           "bgcolor": "#DDE6ED",
           "bordercolor": "#19376D"
          },
          "hovertext": "JOLTs Job Openings \n 1285.6",
          "opacity": 0.7,
          "showarrow": true,
          "text": "JOLTs Job Openings",
          "x": "2019-05-07",
          "xanchor": "auto",
          "xref": "x",
          "y": 1285.6,
          "yanchor": "bottom",
          "yref": "y"
         },
         {
          "arrowcolor": "#999999",
          "arrowhead": 1,
          "arrowside": "start",
          "arrowsize": 0.3,
          "arrowwidth": 1.4,
          "ax": 0,
          "ay": -18.305714285714288,
          "bordercolor": "#A0C49D",
          "borderpad": 5,
          "borderwidth": 0,
          "captureevents": true,
          "clicktoshow": "onoff",
          "font": {
           "color": "#19376D",
           "family": "Balto",
           "size": 8
          },
          "hoverlabel": {
           "bgcolor": "#DDE6ED",
           "bordercolor": "#19376D"
          },
          "hovertext": "Crude Oil Inventories  \n 1281.4",
          "opacity": 0.7,
          "showarrow": true,
          "text": "Crude Oil Inventories ",
          "x": "2019-05-08",
          "xanchor": "auto",
          "xref": "x",
          "y": 1281.4,
          "yanchor": "bottom",
          "yref": "y"
         },
         {
          "arrowcolor": "#999999",
          "arrowhead": 1,
          "arrowside": "start",
          "arrowsize": 0.3,
          "arrowwidth": 1.4,
          "ax": 0,
          "ay": -18.374285714285715,
          "bordercolor": "#A0C49D",
          "borderpad": 5,
          "borderwidth": 0,
          "captureevents": true,
          "clicktoshow": "onoff",
          "font": {
           "color": "#19376D",
           "family": "Balto",
           "size": 8
          },
          "hoverlabel": {
           "bgcolor": "#DDE6ED",
           "bordercolor": "#19376D"
          },
          "hovertext": "Building Permits \n 1286.2",
          "opacity": 0.7,
          "showarrow": true,
          "text": "Building Permits",
          "x": "2019-05-16",
          "xanchor": "auto",
          "xref": "x",
          "y": 1286.2,
          "yanchor": "bottom",
          "yref": "y"
         },
         {
          "arrowcolor": "#999999",
          "arrowhead": 1,
          "arrowside": "start",
          "arrowsize": 0.3,
          "arrowwidth": 1.4,
          "ax": 0,
          "ay": -18.362857142857145,
          "bordercolor": "#A0C49D",
          "borderpad": 5,
          "borderwidth": 0,
          "captureevents": true,
          "clicktoshow": "onoff",
          "font": {
           "color": "#19376D",
           "family": "Balto",
           "size": 8
          },
          "hoverlabel": {
           "bgcolor": "#DDE6ED",
           "bordercolor": "#19376D"
          },
          "hovertext": "Initial Jobless Claims \n 1285.4",
          "opacity": 0.7,
          "showarrow": true,
          "text": "Initial Jobless Claims",
          "x": "2019-05-23",
          "xanchor": "auto",
          "xref": "x",
          "y": 1285.4,
          "yanchor": "bottom",
          "yref": "y"
         },
         {
          "arrowcolor": "#999999",
          "arrowhead": 1,
          "arrowside": "start",
          "arrowsize": 0.3,
          "arrowwidth": 1.4,
          "ax": 0,
          "ay": -18.462857142857143,
          "bordercolor": "#A0C49D",
          "borderpad": 5,
          "borderwidth": 0,
          "captureevents": true,
          "clicktoshow": "onoff",
          "font": {
           "color": "#19376D",
           "family": "Balto",
           "size": 8
          },
          "hoverlabel": {
           "bgcolor": "#DDE6ED",
           "bordercolor": "#19376D"
          },
          "hovertext": "Initial Jobless Claims \n 1292.4",
          "opacity": 0.7,
          "showarrow": true,
          "text": "Initial Jobless Claims",
          "x": "2019-05-30",
          "xanchor": "auto",
          "xref": "x",
          "y": 1292.4,
          "yanchor": "bottom",
          "yref": "y"
         },
         {
          "arrowcolor": "#999999",
          "arrowhead": 1,
          "arrowside": "start",
          "arrowsize": 0.3,
          "arrowwidth": 1.4,
          "ax": 0,
          "ay": -19.268571428571427,
          "bordercolor": "#A0C49D",
          "borderpad": 5,
          "borderwidth": 0,
          "captureevents": true,
          "clicktoshow": "onoff",
          "font": {
           "color": "#19376D",
           "family": "Balto",
           "size": 8
          },
          "hoverlabel": {
           "bgcolor": "#DDE6ED",
           "bordercolor": "#19376D"
          },
          "hovertext": "Crude Oil Inventories  \n 1348.8",
          "opacity": 0.7,
          "showarrow": true,
          "text": "Crude Oil Inventories ",
          "x": "2019-06-19",
          "xanchor": "auto",
          "xref": "x",
          "y": 1348.8,
          "yanchor": "bottom",
          "yref": "y"
         },
         {
          "arrowcolor": "#999999",
          "arrowhead": 1,
          "arrowside": "start",
          "arrowsize": 0.3,
          "arrowwidth": 1.4,
          "ax": 0,
          "ay": -19.955714285714286,
          "bordercolor": "#A0C49D",
          "borderpad": 5,
          "borderwidth": 0,
          "captureevents": true,
          "clicktoshow": "onoff",
          "font": {
           "color": "#19376D",
           "family": "Balto",
           "size": 8
          },
          "hoverlabel": {
           "bgcolor": "#DDE6ED",
           "bordercolor": "#19376D"
          },
          "hovertext": "Initial Jobless Claims \n 1396.9",
          "opacity": 0.7,
          "showarrow": true,
          "text": "Initial Jobless Claims",
          "x": "2019-06-20",
          "xanchor": "auto",
          "xref": "x",
          "y": 1396.9,
          "yanchor": "bottom",
          "yref": "y"
         },
         {
          "arrowcolor": "#999999",
          "arrowhead": 1,
          "arrowside": "start",
          "arrowsize": 0.3,
          "arrowwidth": 1.4,
          "ax": 0,
          "ay": -20.00142857142857,
          "bordercolor": "#A0C49D",
          "borderpad": 5,
          "borderwidth": 0,
          "captureevents": true,
          "clicktoshow": "onoff",
          "font": {
           "color": "#19376D",
           "family": "Balto",
           "size": 8
          },
          "hoverlabel": {
           "bgcolor": "#DDE6ED",
           "bordercolor": "#19376D"
          },
          "hovertext": "Existing Home Sales  \n 1400.1",
          "opacity": 0.7,
          "showarrow": true,
          "text": "Existing Home Sales ",
          "x": "2019-06-21",
          "xanchor": "auto",
          "xref": "x",
          "y": 1400.1,
          "yanchor": "bottom",
          "yref": "y"
         },
         {
          "arrowcolor": "#999999",
          "arrowhead": 1,
          "arrowside": "start",
          "arrowsize": 0.3,
          "arrowwidth": 1.4,
          "ax": 0,
          "ay": -20.220000000000002,
          "bordercolor": "#A0C49D",
          "borderpad": 5,
          "borderwidth": 0,
          "captureevents": true,
          "clicktoshow": "onoff",
          "font": {
           "color": "#19376D",
           "family": "Balto",
           "size": 8
          },
          "hoverlabel": {
           "bgcolor": "#DDE6ED",
           "bordercolor": "#19376D"
          },
          "hovertext": "Core Durable Goods Orders  \n 1415.4",
          "opacity": 0.7,
          "showarrow": true,
          "text": "Core Durable Goods Orders ",
          "x": "2019-06-26",
          "xanchor": "auto",
          "xref": "x",
          "y": 1415.4,
          "yanchor": "bottom",
          "yref": "y"
         },
         {
          "arrowcolor": "#999999",
          "arrowhead": 1,
          "arrowside": "start",
          "arrowsize": 0.3,
          "arrowwidth": 1.4,
          "ax": 0,
          "ay": -20.178571428571427,
          "bordercolor": "#A0C49D",
          "borderpad": 5,
          "borderwidth": 0,
          "captureevents": true,
          "clicktoshow": "onoff",
          "font": {
           "color": "#19376D",
           "family": "Balto",
           "size": 8
          },
          "hoverlabel": {
           "bgcolor": "#DDE6ED",
           "bordercolor": "#19376D"
          },
          "hovertext": "Crude Oil Inventories  \n 1412.5",
          "opacity": 0.7,
          "showarrow": true,
          "text": "Crude Oil Inventories ",
          "x": "2019-07-10",
          "xanchor": "auto",
          "xref": "x",
          "y": 1412.5,
          "yanchor": "bottom",
          "yref": "y"
         },
         {
          "arrowcolor": "#999999",
          "arrowhead": 1,
          "arrowside": "start",
          "arrowsize": 0.3,
          "arrowwidth": 1.4,
          "ax": 0,
          "ay": -20.095714285714287,
          "bordercolor": "#A0C49D",
          "borderpad": 5,
          "borderwidth": 0,
          "captureevents": true,
          "clicktoshow": "onoff",
          "font": {
           "color": "#19376D",
           "family": "Balto",
           "size": 8
          },
          "hoverlabel": {
           "bgcolor": "#DDE6ED",
           "bordercolor": "#19376D"
          },
          "hovertext": "Core CPI \n 1406.7",
          "opacity": 0.7,
          "showarrow": true,
          "text": "Core CPI",
          "x": "2019-07-11",
          "xanchor": "auto",
          "xref": "x",
          "y": 1406.7,
          "yanchor": "bottom",
          "yref": "y"
         },
         {
          "arrowcolor": "#999999",
          "arrowhead": 1,
          "arrowside": "start",
          "arrowsize": 0.3,
          "arrowwidth": 1.4,
          "ax": 0,
          "ay": -20.16,
          "bordercolor": "#A0C49D",
          "borderpad": 5,
          "borderwidth": 0,
          "captureevents": true,
          "clicktoshow": "onoff",
          "font": {
           "color": "#19376D",
           "family": "Balto",
           "size": 8
          },
          "hoverlabel": {
           "bgcolor": "#DDE6ED",
           "bordercolor": "#19376D"
          },
          "hovertext": "Core Retail Sales  \n 1411.2",
          "opacity": 0.7,
          "showarrow": true,
          "text": "Core Retail Sales ",
          "x": "2019-07-16",
          "xanchor": "auto",
          "xref": "x",
          "y": 1411.2,
          "yanchor": "bottom",
          "yref": "y"
         },
         {
          "arrowcolor": "#999999",
          "arrowhead": 1,
          "arrowside": "start",
          "arrowsize": 0.3,
          "arrowwidth": 1.4,
          "ax": 0,
          "ay": -20.332857142857144,
          "bordercolor": "#A0C49D",
          "borderpad": 5,
          "borderwidth": 0,
          "captureevents": true,
          "clicktoshow": "onoff",
          "font": {
           "color": "#19376D",
           "family": "Balto",
           "size": 8
          },
          "hoverlabel": {
           "bgcolor": "#DDE6ED",
           "bordercolor": "#19376D"
          },
          "hovertext": "Crude Oil Inventories  \n 1423.3",
          "opacity": 0.7,
          "showarrow": true,
          "text": "Crude Oil Inventories ",
          "x": "2019-07-17",
          "xanchor": "auto",
          "xref": "x",
          "y": 1423.3,
          "yanchor": "bottom",
          "yref": "y"
         },
         {
          "arrowcolor": "#999999",
          "arrowhead": 1,
          "arrowside": "start",
          "arrowsize": 0.3,
          "arrowwidth": 1.4,
          "ax": 0,
          "ay": -20.337142857142855,
          "bordercolor": "#A0C49D",
          "borderpad": 5,
          "borderwidth": 0,
          "captureevents": true,
          "clicktoshow": "onoff",
          "font": {
           "color": "#19376D",
           "family": "Balto",
           "size": 8
          },
          "hoverlabel": {
           "bgcolor": "#DDE6ED",
           "bordercolor": "#19376D"
          },
          "hovertext": "Crude Oil Inventories  \n 1423.6",
          "opacity": 0.7,
          "showarrow": true,
          "text": "Crude Oil Inventories ",
          "x": "2019-07-24",
          "xanchor": "auto",
          "xref": "x",
          "y": 1423.6,
          "yanchor": "bottom",
          "yref": "y"
         },
         {
          "arrowcolor": "#999999",
          "arrowhead": 1,
          "arrowside": "start",
          "arrowsize": 0.3,
          "arrowwidth": 1.4,
          "ax": 0,
          "ay": -20.21,
          "bordercolor": "#A0C49D",
          "borderpad": 5,
          "borderwidth": 0,
          "captureevents": true,
          "clicktoshow": "onoff",
          "font": {
           "color": "#19376D",
           "family": "Balto",
           "size": 8
          },
          "hoverlabel": {
           "bgcolor": "#DDE6ED",
           "bordercolor": "#19376D"
          },
          "hovertext": "Core Durable Goods Orders  \n 1414.7",
          "opacity": 0.7,
          "showarrow": true,
          "text": "Core Durable Goods Orders ",
          "x": "2019-07-25",
          "xanchor": "auto",
          "xref": "x",
          "y": 1414.7,
          "yanchor": "bottom",
          "yref": "y"
         },
         {
          "arrowcolor": "#999999",
          "arrowhead": 1,
          "arrowside": "start",
          "arrowsize": 0.3,
          "arrowwidth": 1.4,
          "ax": 0,
          "ay": -20.275714285714287,
          "bordercolor": "#A0C49D",
          "borderpad": 5,
          "borderwidth": 0,
          "captureevents": true,
          "clicktoshow": "onoff",
          "font": {
           "color": "#19376D",
           "family": "Balto",
           "size": 8
          },
          "hoverlabel": {
           "bgcolor": "#DDE6ED",
           "bordercolor": "#19376D"
          },
          "hovertext": "GDP  \n 1419.3",
          "opacity": 0.7,
          "showarrow": true,
          "text": "GDP ",
          "x": "2019-07-26",
          "xanchor": "auto",
          "xref": "x",
          "y": 1419.3,
          "yanchor": "bottom",
          "yref": "y"
         },
         {
          "arrowcolor": "#999999",
          "arrowhead": 1,
          "arrowside": "start",
          "arrowsize": 0.3,
          "arrowwidth": 1.4,
          "ax": 0,
          "ay": -20.54,
          "bordercolor": "#A0C49D",
          "borderpad": 5,
          "borderwidth": 0,
          "captureevents": true,
          "clicktoshow": "onoff",
          "font": {
           "color": "#19376D",
           "family": "Balto",
           "size": 8
          },
          "hoverlabel": {
           "bgcolor": "#DDE6ED",
           "bordercolor": "#19376D"
          },
          "hovertext": "ADP Nonfarm Employment Change  \n 1437.8",
          "opacity": 0.7,
          "showarrow": true,
          "text": "ADP Nonfarm Employment Change ",
          "x": "2019-07-31",
          "xanchor": "auto",
          "xref": "x",
          "y": 1437.8,
          "yanchor": "bottom",
          "yref": "y"
         },
         {
          "arrowcolor": "#999999",
          "arrowhead": 1,
          "arrowside": "start",
          "arrowsize": 0.3,
          "arrowwidth": 1.4,
          "ax": 0,
          "ay": -21.564285714285713,
          "bordercolor": "#A0C49D",
          "borderpad": 5,
          "borderwidth": 0,
          "captureevents": true,
          "clicktoshow": "onoff",
          "font": {
           "color": "#19376D",
           "family": "Balto",
           "size": 8
          },
          "hoverlabel": {
           "bgcolor": "#DDE6ED",
           "bordercolor": "#19376D"
          },
          "hovertext": "Initial Jobless Claims \n 1509.5",
          "opacity": 0.7,
          "showarrow": true,
          "text": "Initial Jobless Claims",
          "x": "2019-08-08",
          "xanchor": "auto",
          "xref": "x",
          "y": 1509.5,
          "yanchor": "bottom",
          "yref": "y"
         },
         {
          "arrowcolor": "#999999",
          "arrowhead": 1,
          "arrowside": "start",
          "arrowsize": 0.3,
          "arrowwidth": 1.4,
          "ax": 0,
          "ay": -21.63,
          "bordercolor": "#A0C49D",
          "borderpad": 5,
          "borderwidth": 0,
          "captureevents": true,
          "clicktoshow": "onoff",
          "font": {
           "color": "#19376D",
           "family": "Balto",
           "size": 8
          },
          "hoverlabel": {
           "bgcolor": "#DDE6ED",
           "bordercolor": "#19376D"
          },
          "hovertext": "Core CPI \n 1514.1",
          "opacity": 0.7,
          "showarrow": true,
          "text": "Core CPI",
          "x": "2019-08-13",
          "xanchor": "auto",
          "xref": "x",
          "y": 1514.1,
          "yanchor": "bottom",
          "yref": "y"
         },
         {
          "arrowcolor": "#999999",
          "arrowhead": 1,
          "arrowside": "start",
          "arrowsize": 0.3,
          "arrowwidth": 1.4,
          "ax": 0,
          "ay": -21.874285714285715,
          "bordercolor": "#A0C49D",
          "borderpad": 5,
          "borderwidth": 0,
          "captureevents": true,
          "clicktoshow": "onoff",
          "font": {
           "color": "#19376D",
           "family": "Balto",
           "size": 8
          },
          "hoverlabel": {
           "bgcolor": "#DDE6ED",
           "bordercolor": "#19376D"
          },
          "hovertext": "Core Retail Sales  \n 1531.2",
          "opacity": 0.7,
          "showarrow": true,
          "text": "Core Retail Sales ",
          "x": "2019-08-15",
          "xanchor": "auto",
          "xref": "x",
          "y": 1531.2,
          "yanchor": "bottom",
          "yref": "y"
         },
         {
          "arrowcolor": "#999999",
          "arrowhead": 1,
          "arrowside": "start",
          "arrowsize": 0.3,
          "arrowwidth": 1.4,
          "ax": 0,
          "ay": -21.765714285714285,
          "bordercolor": "#A0C49D",
          "borderpad": 5,
          "borderwidth": 0,
          "captureevents": true,
          "clicktoshow": "onoff",
          "font": {
           "color": "#19376D",
           "family": "Balto",
           "size": 8
          },
          "hoverlabel": {
           "bgcolor": "#DDE6ED",
           "bordercolor": "#19376D"
          },
          "hovertext": "Building Permits \n 1523.6",
          "opacity": 0.7,
          "showarrow": true,
          "text": "Building Permits",
          "x": "2019-08-16",
          "xanchor": "auto",
          "xref": "x",
          "y": 1523.6,
          "yanchor": "bottom",
          "yref": "y"
         },
         {
          "arrowcolor": "#999999",
          "arrowhead": 1,
          "arrowside": "start",
          "arrowsize": 0.3,
          "arrowwidth": 1.4,
          "ax": 0,
          "ay": -21.652857142857144,
          "bordercolor": "#A0C49D",
          "borderpad": 5,
          "borderwidth": 0,
          "captureevents": true,
          "clicktoshow": "onoff",
          "font": {
           "color": "#19376D",
           "family": "Balto",
           "size": 8
          },
          "hoverlabel": {
           "bgcolor": "#DDE6ED",
           "bordercolor": "#19376D"
          },
          "hovertext": "Existing Home Sales  \n 1515.7",
          "opacity": 0.7,
          "showarrow": true,
          "text": "Existing Home Sales ",
          "x": "2019-08-21",
          "xanchor": "auto",
          "xref": "x",
          "y": 1515.7,
          "yanchor": "bottom",
          "yref": "y"
         },
         {
          "arrowcolor": "#999999",
          "arrowhead": 1,
          "arrowside": "start",
          "arrowsize": 0.3,
          "arrowwidth": 1.4,
          "ax": 0,
          "ay": -21.55,
          "bordercolor": "#A0C49D",
          "borderpad": 5,
          "borderwidth": 0,
          "captureevents": true,
          "clicktoshow": "onoff",
          "font": {
           "color": "#19376D",
           "family": "Balto",
           "size": 8
          },
          "hoverlabel": {
           "bgcolor": "#DDE6ED",
           "bordercolor": "#19376D"
          },
          "hovertext": "Initial Jobless Claims \n 1508.5",
          "opacity": 0.7,
          "showarrow": true,
          "text": "Initial Jobless Claims",
          "x": "2019-08-22",
          "xanchor": "auto",
          "xref": "x",
          "y": 1508.5,
          "yanchor": "bottom",
          "yref": "y"
         },
         {
          "arrowcolor": "#999999",
          "arrowhead": 1,
          "arrowside": "start",
          "arrowsize": 0.3,
          "arrowwidth": 1.4,
          "ax": 0,
          "ay": -22.13,
          "bordercolor": "#A0C49D",
          "borderpad": 5,
          "borderwidth": 0,
          "captureevents": true,
          "clicktoshow": "onoff",
          "font": {
           "color": "#19376D",
           "family": "Balto",
           "size": 8
          },
          "hoverlabel": {
           "bgcolor": "#DDE6ED",
           "bordercolor": "#19376D"
          },
          "hovertext": "Crude Oil Inventories  \n 1549.1",
          "opacity": 0.7,
          "showarrow": true,
          "text": "Crude Oil Inventories ",
          "x": "2019-08-28",
          "xanchor": "auto",
          "xref": "x",
          "y": 1549.1,
          "yanchor": "bottom",
          "yref": "y"
         },
         {
          "arrowcolor": "#999999",
          "arrowhead": 1,
          "arrowside": "start",
          "arrowsize": 0.3,
          "arrowwidth": 1.4,
          "ax": 0,
          "ay": -21.792857142857144,
          "bordercolor": "#A0C49D",
          "borderpad": 5,
          "borderwidth": 0,
          "captureevents": true,
          "clicktoshow": "onoff",
          "font": {
           "color": "#19376D",
           "family": "Balto",
           "size": 8
          },
          "hoverlabel": {
           "bgcolor": "#DDE6ED",
           "bordercolor": "#19376D"
          },
          "hovertext": "ADP Nonfarm Employment Change  \n 1525.5",
          "opacity": 0.7,
          "showarrow": true,
          "text": "ADP Nonfarm Employment Change ",
          "x": "2019-09-05",
          "xanchor": "auto",
          "xref": "x",
          "y": 1525.5,
          "yanchor": "bottom",
          "yref": "y"
         },
         {
          "arrowcolor": "#999999",
          "arrowhead": 1,
          "arrowside": "start",
          "arrowsize": 0.3,
          "arrowwidth": 1.4,
          "ax": 0,
          "ay": -21.474285714285713,
          "bordercolor": "#A0C49D",
          "borderpad": 5,
          "borderwidth": 0,
          "captureevents": true,
          "clicktoshow": "onoff",
          "font": {
           "color": "#19376D",
           "family": "Balto",
           "size": 8
          },
          "hoverlabel": {
           "bgcolor": "#DDE6ED",
           "bordercolor": "#19376D"
          },
          "hovertext": "Crude Oil Inventories  \n 1503.2",
          "opacity": 0.7,
          "showarrow": true,
          "text": "Crude Oil Inventories ",
          "x": "2019-09-11",
          "xanchor": "auto",
          "xref": "x",
          "y": 1503.2,
          "yanchor": "bottom",
          "yref": "y"
         },
         {
          "arrowcolor": "#999999",
          "arrowhead": 1,
          "arrowside": "start",
          "arrowsize": 0.3,
          "arrowwidth": 1.4,
          "ax": 0,
          "ay": -21.534285714285716,
          "bordercolor": "#A0C49D",
          "borderpad": 5,
          "borderwidth": 0,
          "captureevents": true,
          "clicktoshow": "onoff",
          "font": {
           "color": "#19376D",
           "family": "Balto",
           "size": 8
          },
          "hoverlabel": {
           "bgcolor": "#DDE6ED",
           "bordercolor": "#19376D"
          },
          "hovertext": "Core CPI \n 1507.4",
          "opacity": 0.7,
          "showarrow": true,
          "text": "Core CPI",
          "x": "2019-09-12",
          "xanchor": "auto",
          "xref": "x",
          "y": 1507.4,
          "yanchor": "bottom",
          "yref": "y"
         },
         {
          "arrowcolor": "#999999",
          "arrowhead": 1,
          "arrowside": "start",
          "arrowsize": 0.3,
          "arrowwidth": 1.4,
          "ax": 0,
          "ay": -21.42142857142857,
          "bordercolor": "#A0C49D",
          "borderpad": 5,
          "borderwidth": 0,
          "captureevents": true,
          "clicktoshow": "onoff",
          "font": {
           "color": "#19376D",
           "family": "Balto",
           "size": 8
          },
          "hoverlabel": {
           "bgcolor": "#DDE6ED",
           "bordercolor": "#19376D"
          },
          "hovertext": "Retail Sales \n 1499.5",
          "opacity": 0.7,
          "showarrow": true,
          "text": "Retail Sales",
          "x": "2019-09-13",
          "xanchor": "auto",
          "xref": "x",
          "y": 1499.5,
          "yanchor": "bottom",
          "yref": "y"
         },
         {
          "arrowcolor": "#999999",
          "arrowhead": 1,
          "arrowside": "start",
          "arrowsize": 0.3,
          "arrowwidth": 1.4,
          "ax": 0,
          "ay": -21.654285714285713,
          "bordercolor": "#A0C49D",
          "borderpad": 5,
          "borderwidth": 0,
          "captureevents": true,
          "clicktoshow": "onoff",
          "font": {
           "color": "#19376D",
           "family": "Balto",
           "size": 8
          },
          "hoverlabel": {
           "bgcolor": "#DDE6ED",
           "bordercolor": "#19376D"
          },
          "hovertext": "Building Permits \n 1515.8",
          "opacity": 0.7,
          "showarrow": true,
          "text": "Building Permits",
          "x": "2019-09-18",
          "xanchor": "auto",
          "xref": "x",
          "y": 1515.8,
          "yanchor": "bottom",
          "yref": "y"
         },
         {
          "arrowcolor": "#999999",
          "arrowhead": 1,
          "arrowside": "start",
          "arrowsize": 0.3,
          "arrowwidth": 1.4,
          "ax": 0,
          "ay": -21.517142857142858,
          "bordercolor": "#A0C49D",
          "borderpad": 5,
          "borderwidth": 0,
          "captureevents": true,
          "clicktoshow": "onoff",
          "font": {
           "color": "#19376D",
           "family": "Balto",
           "size": 8
          },
          "hoverlabel": {
           "bgcolor": "#DDE6ED",
           "bordercolor": "#19376D"
          },
          "hovertext": "Initial Jobless Claims \n 1506.2",
          "opacity": 0.7,
          "showarrow": true,
          "text": "Initial Jobless Claims",
          "x": "2019-09-19",
          "xanchor": "auto",
          "xref": "x",
          "y": 1506.2,
          "yanchor": "bottom",
          "yref": "y"
         },
         {
          "arrowcolor": "#999999",
          "arrowhead": 1,
          "arrowside": "start",
          "arrowsize": 0.3,
          "arrowwidth": 1.4,
          "ax": 0,
          "ay": -21.604285714285712,
          "bordercolor": "#A0C49D",
          "borderpad": 5,
          "borderwidth": 0,
          "captureevents": true,
          "clicktoshow": "onoff",
          "font": {
           "color": "#19376D",
           "family": "Balto",
           "size": 8
          },
          "hoverlabel": {
           "bgcolor": "#DDE6ED",
           "bordercolor": "#19376D"
          },
          "hovertext": "New Home Sales \n 1512.3",
          "opacity": 0.7,
          "showarrow": true,
          "text": "New Home Sales",
          "x": "2019-09-25",
          "xanchor": "auto",
          "xref": "x",
          "y": 1512.3,
          "yanchor": "bottom",
          "yref": "y"
         },
         {
          "arrowcolor": "#999999",
          "arrowhead": 1,
          "arrowside": "start",
          "arrowsize": 0.3,
          "arrowwidth": 1.4,
          "ax": 0,
          "ay": -21.645714285714288,
          "bordercolor": "#A0C49D",
          "borderpad": 5,
          "borderwidth": 0,
          "captureevents": true,
          "clicktoshow": "onoff",
          "font": {
           "color": "#19376D",
           "family": "Balto",
           "size": 8
          },
          "hoverlabel": {
           "bgcolor": "#DDE6ED",
           "bordercolor": "#19376D"
          },
          "hovertext": "Pending Home Sales \n 1515.2",
          "opacity": 0.7,
          "showarrow": true,
          "text": "Pending Home Sales",
          "x": "2019-09-26",
          "xanchor": "auto",
          "xref": "x",
          "y": 1515.2,
          "yanchor": "bottom",
          "yref": "y"
         },
         {
          "arrowcolor": "#999999",
          "arrowhead": 1,
          "arrowside": "start",
          "arrowsize": 0.3,
          "arrowwidth": 1.4,
          "ax": 0,
          "ay": -21.52,
          "bordercolor": "#A0C49D",
          "borderpad": 5,
          "borderwidth": 0,
          "captureevents": true,
          "clicktoshow": "onoff",
          "font": {
           "color": "#19376D",
           "family": "Balto",
           "size": 8
          },
          "hoverlabel": {
           "bgcolor": "#DDE6ED",
           "bordercolor": "#19376D"
          },
          "hovertext": "Core Durable Goods Orders  \n 1506.4",
          "opacity": 0.7,
          "showarrow": true,
          "text": "Core Durable Goods Orders ",
          "x": "2019-09-27",
          "xanchor": "auto",
          "xref": "x",
          "y": 1506.4,
          "yanchor": "bottom",
          "yref": "y"
         }
        ],
        "template": {
         "data": {
          "bar": [
           {
            "error_x": {
             "color": "#2a3f5f"
            },
            "error_y": {
             "color": "#2a3f5f"
            },
            "marker": {
             "line": {
              "color": "#E5ECF6",
              "width": 0.5
             },
             "pattern": {
              "fillmode": "overlay",
              "size": 10,
              "solidity": 0.2
             }
            },
            "type": "bar"
           }
          ],
          "barpolar": [
           {
            "marker": {
             "line": {
              "color": "#E5ECF6",
              "width": 0.5
             },
             "pattern": {
              "fillmode": "overlay",
              "size": 10,
              "solidity": 0.2
             }
            },
            "type": "barpolar"
           }
          ],
          "carpet": [
           {
            "aaxis": {
             "endlinecolor": "#2a3f5f",
             "gridcolor": "white",
             "linecolor": "white",
             "minorgridcolor": "white",
             "startlinecolor": "#2a3f5f"
            },
            "baxis": {
             "endlinecolor": "#2a3f5f",
             "gridcolor": "white",
             "linecolor": "white",
             "minorgridcolor": "white",
             "startlinecolor": "#2a3f5f"
            },
            "type": "carpet"
           }
          ],
          "choropleth": [
           {
            "colorbar": {
             "outlinewidth": 0,
             "ticks": ""
            },
            "type": "choropleth"
           }
          ],
          "contour": [
           {
            "colorbar": {
             "outlinewidth": 0,
             "ticks": ""
            },
            "colorscale": [
             [
              0,
              "#0d0887"
             ],
             [
              0.1111111111111111,
              "#46039f"
             ],
             [
              0.2222222222222222,
              "#7201a8"
             ],
             [
              0.3333333333333333,
              "#9c179e"
             ],
             [
              0.4444444444444444,
              "#bd3786"
             ],
             [
              0.5555555555555556,
              "#d8576b"
             ],
             [
              0.6666666666666666,
              "#ed7953"
             ],
             [
              0.7777777777777778,
              "#fb9f3a"
             ],
             [
              0.8888888888888888,
              "#fdca26"
             ],
             [
              1,
              "#f0f921"
             ]
            ],
            "type": "contour"
           }
          ],
          "contourcarpet": [
           {
            "colorbar": {
             "outlinewidth": 0,
             "ticks": ""
            },
            "type": "contourcarpet"
           }
          ],
          "heatmap": [
           {
            "colorbar": {
             "outlinewidth": 0,
             "ticks": ""
            },
            "colorscale": [
             [
              0,
              "#0d0887"
             ],
             [
              0.1111111111111111,
              "#46039f"
             ],
             [
              0.2222222222222222,
              "#7201a8"
             ],
             [
              0.3333333333333333,
              "#9c179e"
             ],
             [
              0.4444444444444444,
              "#bd3786"
             ],
             [
              0.5555555555555556,
              "#d8576b"
             ],
             [
              0.6666666666666666,
              "#ed7953"
             ],
             [
              0.7777777777777778,
              "#fb9f3a"
             ],
             [
              0.8888888888888888,
              "#fdca26"
             ],
             [
              1,
              "#f0f921"
             ]
            ],
            "type": "heatmap"
           }
          ],
          "heatmapgl": [
           {
            "colorbar": {
             "outlinewidth": 0,
             "ticks": ""
            },
            "colorscale": [
             [
              0,
              "#0d0887"
             ],
             [
              0.1111111111111111,
              "#46039f"
             ],
             [
              0.2222222222222222,
              "#7201a8"
             ],
             [
              0.3333333333333333,
              "#9c179e"
             ],
             [
              0.4444444444444444,
              "#bd3786"
             ],
             [
              0.5555555555555556,
              "#d8576b"
             ],
             [
              0.6666666666666666,
              "#ed7953"
             ],
             [
              0.7777777777777778,
              "#fb9f3a"
             ],
             [
              0.8888888888888888,
              "#fdca26"
             ],
             [
              1,
              "#f0f921"
             ]
            ],
            "type": "heatmapgl"
           }
          ],
          "histogram": [
           {
            "marker": {
             "pattern": {
              "fillmode": "overlay",
              "size": 10,
              "solidity": 0.2
             }
            },
            "type": "histogram"
           }
          ],
          "histogram2d": [
           {
            "colorbar": {
             "outlinewidth": 0,
             "ticks": ""
            },
            "colorscale": [
             [
              0,
              "#0d0887"
             ],
             [
              0.1111111111111111,
              "#46039f"
             ],
             [
              0.2222222222222222,
              "#7201a8"
             ],
             [
              0.3333333333333333,
              "#9c179e"
             ],
             [
              0.4444444444444444,
              "#bd3786"
             ],
             [
              0.5555555555555556,
              "#d8576b"
             ],
             [
              0.6666666666666666,
              "#ed7953"
             ],
             [
              0.7777777777777778,
              "#fb9f3a"
             ],
             [
              0.8888888888888888,
              "#fdca26"
             ],
             [
              1,
              "#f0f921"
             ]
            ],
            "type": "histogram2d"
           }
          ],
          "histogram2dcontour": [
           {
            "colorbar": {
             "outlinewidth": 0,
             "ticks": ""
            },
            "colorscale": [
             [
              0,
              "#0d0887"
             ],
             [
              0.1111111111111111,
              "#46039f"
             ],
             [
              0.2222222222222222,
              "#7201a8"
             ],
             [
              0.3333333333333333,
              "#9c179e"
             ],
             [
              0.4444444444444444,
              "#bd3786"
             ],
             [
              0.5555555555555556,
              "#d8576b"
             ],
             [
              0.6666666666666666,
              "#ed7953"
             ],
             [
              0.7777777777777778,
              "#fb9f3a"
             ],
             [
              0.8888888888888888,
              "#fdca26"
             ],
             [
              1,
              "#f0f921"
             ]
            ],
            "type": "histogram2dcontour"
           }
          ],
          "mesh3d": [
           {
            "colorbar": {
             "outlinewidth": 0,
             "ticks": ""
            },
            "type": "mesh3d"
           }
          ],
          "parcoords": [
           {
            "line": {
             "colorbar": {
              "outlinewidth": 0,
              "ticks": ""
             }
            },
            "type": "parcoords"
           }
          ],
          "pie": [
           {
            "automargin": true,
            "type": "pie"
           }
          ],
          "scatter": [
           {
            "fillpattern": {
             "fillmode": "overlay",
             "size": 10,
             "solidity": 0.2
            },
            "type": "scatter"
           }
          ],
          "scatter3d": [
           {
            "line": {
             "colorbar": {
              "outlinewidth": 0,
              "ticks": ""
             }
            },
            "marker": {
             "colorbar": {
              "outlinewidth": 0,
              "ticks": ""
             }
            },
            "type": "scatter3d"
           }
          ],
          "scattercarpet": [
           {
            "marker": {
             "colorbar": {
              "outlinewidth": 0,
              "ticks": ""
             }
            },
            "type": "scattercarpet"
           }
          ],
          "scattergeo": [
           {
            "marker": {
             "colorbar": {
              "outlinewidth": 0,
              "ticks": ""
             }
            },
            "type": "scattergeo"
           }
          ],
          "scattergl": [
           {
            "marker": {
             "colorbar": {
              "outlinewidth": 0,
              "ticks": ""
             }
            },
            "type": "scattergl"
           }
          ],
          "scattermapbox": [
           {
            "marker": {
             "colorbar": {
              "outlinewidth": 0,
              "ticks": ""
             }
            },
            "type": "scattermapbox"
           }
          ],
          "scatterpolar": [
           {
            "marker": {
             "colorbar": {
              "outlinewidth": 0,
              "ticks": ""
             }
            },
            "type": "scatterpolar"
           }
          ],
          "scatterpolargl": [
           {
            "marker": {
             "colorbar": {
              "outlinewidth": 0,
              "ticks": ""
             }
            },
            "type": "scatterpolargl"
           }
          ],
          "scatterternary": [
           {
            "marker": {
             "colorbar": {
              "outlinewidth": 0,
              "ticks": ""
             }
            },
            "type": "scatterternary"
           }
          ],
          "surface": [
           {
            "colorbar": {
             "outlinewidth": 0,
             "ticks": ""
            },
            "colorscale": [
             [
              0,
              "#0d0887"
             ],
             [
              0.1111111111111111,
              "#46039f"
             ],
             [
              0.2222222222222222,
              "#7201a8"
             ],
             [
              0.3333333333333333,
              "#9c179e"
             ],
             [
              0.4444444444444444,
              "#bd3786"
             ],
             [
              0.5555555555555556,
              "#d8576b"
             ],
             [
              0.6666666666666666,
              "#ed7953"
             ],
             [
              0.7777777777777778,
              "#fb9f3a"
             ],
             [
              0.8888888888888888,
              "#fdca26"
             ],
             [
              1,
              "#f0f921"
             ]
            ],
            "type": "surface"
           }
          ],
          "table": [
           {
            "cells": {
             "fill": {
              "color": "#EBF0F8"
             },
             "line": {
              "color": "white"
             }
            },
            "header": {
             "fill": {
              "color": "#C8D4E3"
             },
             "line": {
              "color": "white"
             }
            },
            "type": "table"
           }
          ]
         },
         "layout": {
          "annotationdefaults": {
           "arrowcolor": "#2a3f5f",
           "arrowhead": 0,
           "arrowwidth": 1
          },
          "autotypenumbers": "strict",
          "coloraxis": {
           "colorbar": {
            "outlinewidth": 0,
            "ticks": ""
           }
          },
          "colorscale": {
           "diverging": [
            [
             0,
             "#8e0152"
            ],
            [
             0.1,
             "#c51b7d"
            ],
            [
             0.2,
             "#de77ae"
            ],
            [
             0.3,
             "#f1b6da"
            ],
            [
             0.4,
             "#fde0ef"
            ],
            [
             0.5,
             "#f7f7f7"
            ],
            [
             0.6,
             "#e6f5d0"
            ],
            [
             0.7,
             "#b8e186"
            ],
            [
             0.8,
             "#7fbc41"
            ],
            [
             0.9,
             "#4d9221"
            ],
            [
             1,
             "#276419"
            ]
           ],
           "sequential": [
            [
             0,
             "#0d0887"
            ],
            [
             0.1111111111111111,
             "#46039f"
            ],
            [
             0.2222222222222222,
             "#7201a8"
            ],
            [
             0.3333333333333333,
             "#9c179e"
            ],
            [
             0.4444444444444444,
             "#bd3786"
            ],
            [
             0.5555555555555556,
             "#d8576b"
            ],
            [
             0.6666666666666666,
             "#ed7953"
            ],
            [
             0.7777777777777778,
             "#fb9f3a"
            ],
            [
             0.8888888888888888,
             "#fdca26"
            ],
            [
             1,
             "#f0f921"
            ]
           ],
           "sequentialminus": [
            [
             0,
             "#0d0887"
            ],
            [
             0.1111111111111111,
             "#46039f"
            ],
            [
             0.2222222222222222,
             "#7201a8"
            ],
            [
             0.3333333333333333,
             "#9c179e"
            ],
            [
             0.4444444444444444,
             "#bd3786"
            ],
            [
             0.5555555555555556,
             "#d8576b"
            ],
            [
             0.6666666666666666,
             "#ed7953"
            ],
            [
             0.7777777777777778,
             "#fb9f3a"
            ],
            [
             0.8888888888888888,
             "#fdca26"
            ],
            [
             1,
             "#f0f921"
            ]
           ]
          },
          "colorway": [
           "#636efa",
           "#EF553B",
           "#00cc96",
           "#ab63fa",
           "#FFA15A",
           "#19d3f3",
           "#FF6692",
           "#B6E880",
           "#FF97FF",
           "#FECB52"
          ],
          "font": {
           "color": "#2a3f5f"
          },
          "geo": {
           "bgcolor": "white",
           "lakecolor": "white",
           "landcolor": "#E5ECF6",
           "showlakes": true,
           "showland": true,
           "subunitcolor": "white"
          },
          "hoverlabel": {
           "align": "left"
          },
          "hovermode": "closest",
          "mapbox": {
           "style": "light"
          },
          "paper_bgcolor": "white",
          "plot_bgcolor": "#E5ECF6",
          "polar": {
           "angularaxis": {
            "gridcolor": "white",
            "linecolor": "white",
            "ticks": ""
           },
           "bgcolor": "#E5ECF6",
           "radialaxis": {
            "gridcolor": "white",
            "linecolor": "white",
            "ticks": ""
           }
          },
          "scene": {
           "xaxis": {
            "backgroundcolor": "#E5ECF6",
            "gridcolor": "white",
            "gridwidth": 2,
            "linecolor": "white",
            "showbackground": true,
            "ticks": "",
            "zerolinecolor": "white"
           },
           "yaxis": {
            "backgroundcolor": "#E5ECF6",
            "gridcolor": "white",
            "gridwidth": 2,
            "linecolor": "white",
            "showbackground": true,
            "ticks": "",
            "zerolinecolor": "white"
           },
           "zaxis": {
            "backgroundcolor": "#E5ECF6",
            "gridcolor": "white",
            "gridwidth": 2,
            "linecolor": "white",
            "showbackground": true,
            "ticks": "",
            "zerolinecolor": "white"
           }
          },
          "shapedefaults": {
           "line": {
            "color": "#2a3f5f"
           }
          },
          "ternary": {
           "aaxis": {
            "gridcolor": "white",
            "linecolor": "white",
            "ticks": ""
           },
           "baxis": {
            "gridcolor": "white",
            "linecolor": "white",
            "ticks": ""
           },
           "bgcolor": "#E5ECF6",
           "caxis": {
            "gridcolor": "white",
            "linecolor": "white",
            "ticks": ""
           }
          },
          "title": {
           "x": 0.05
          },
          "xaxis": {
           "automargin": true,
           "gridcolor": "white",
           "linecolor": "white",
           "ticks": "",
           "title": {
            "standoff": 15
           },
           "zerolinecolor": "white",
           "zerolinewidth": 2
          },
          "yaxis": {
           "automargin": true,
           "gridcolor": "white",
           "linecolor": "white",
           "ticks": "",
           "title": {
            "standoff": 15
           },
           "zerolinecolor": "white",
           "zerolinewidth": 2
          }
         }
        }
       }
      }
     },
     "metadata": {},
     "output_type": "display_data"
    }
   ],
   "source": [
    "fig = go.Figure()\n",
    "annotations=[]\n",
    "fig.add_trace(go.Scatter(x=end['Date'], y=end['Close'],\n",
    "                    mode='lines',\n",
    "                    name='Price'))\n",
    "fig.add_trace(go.Scatter(x=justnews['Date'], y=justnews['Close'],\n",
    "                    mode='markers',\n",
    "                    name='Event',\n",
    "                    line=dict(color='firebrick', width=4,\n",
    "                              dash='dash'),                    \n",
    "                    )\n",
    " )\n",
    "\n",
    "for index, row in justnews.iterrows():\n",
    "        annotations.append( dict(\n",
    "                            # title = 'Gold Price Time',\n",
    "                            text=row['Description'],\n",
    "                            x=row['Date'],\n",
    "                            y=row['Close'],\n",
    "                            xref=\"x\", \n",
    "                            yref=\"y\",\n",
    "                            showarrow=True,\n",
    "                            ax=0,\n",
    "                            ay=-(row['Close'] / 70),\n",
    "                            arrowcolor ='#999999',\n",
    "                            arrowsize=0.3,\n",
    "                            arrowwidth=1.4,\n",
    "                            bordercolor='#A0C49D',\n",
    "                            captureevents =True,\n",
    "                            opacity = 0.7,\n",
    "                            hovertext=f\"{row['Description']} \\n {row['Close']}\",\n",
    "                            clicktoshow=\"onoff\",\n",
    "                            \n",
    "                            xanchor= 'auto',\n",
    "                            yanchor = 'bottom',\n",
    "                            arrowhead= 1,\n",
    "                            arrowside ='start' ,\n",
    "                            borderpad=5,\n",
    "                            borderwidth=0,  \n",
    "                            \n",
    "                            hoverlabel= dict(\n",
    "                                bgcolor='#DDE6ED',\n",
    "                                bordercolor='#19376D',\n",
    "                            ),\n",
    "                            font=dict(\n",
    "                                color='#19376D',\n",
    "                                family=\"Balto\",\n",
    "                                size=8\n",
    "                            )\n",
    "                            \n",
    "                            \n",
    "                            )\n",
    "        )\n",
    "\n",
    "fig.update_layout(annotations=annotations)\n",
    "fig.show()"
   ]
  },
  {
   "cell_type": "code",
   "execution_count": null,
   "metadata": {},
   "outputs": [],
   "source": []
  }
 ],
 "metadata": {
  "kernelspec": {
   "display_name": "Python 3",
   "language": "python",
   "name": "python3"
  },
  "language_info": {
   "codemirror_mode": {
    "name": "ipython",
    "version": 3
   },
   "file_extension": ".py",
   "mimetype": "text/x-python",
   "name": "python",
   "nbconvert_exporter": "python",
   "pygments_lexer": "ipython3",
   "version": "3.10.8"
  },
  "orig_nbformat": 4
 },
 "nbformat": 4,
 "nbformat_minor": 2
}
